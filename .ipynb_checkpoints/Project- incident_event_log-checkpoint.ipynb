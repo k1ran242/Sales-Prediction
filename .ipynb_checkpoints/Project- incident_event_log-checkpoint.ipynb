{
 "cells": [
  {
   "cell_type": "code",
   "execution_count": 1,
   "metadata": {
    "id": "ZeiJ6w45H1w-"
   },
   "outputs": [],
   "source": [
    "import pandas as pd\n",
    "import numpy as np\n",
    "import seaborn as sns\n",
    "import matplotlib.pyplot as plt\n",
    "%matplotlib inline"
   ]
  },
  {
   "cell_type": "code",
   "execution_count": 2,
   "metadata": {
    "colab": {
     "base_uri": "https://localhost:8080/",
     "height": 307
    },
    "id": "BtDS81BcIWKv",
    "outputId": "034b5e33-4b04-45a1-935b-eef0c2c35c21",
    "scrolled": true
   },
   "outputs": [
    {
     "data": {
      "text/html": [
       "<div>\n",
       "<style scoped>\n",
       "    .dataframe tbody tr th:only-of-type {\n",
       "        vertical-align: middle;\n",
       "    }\n",
       "\n",
       "    .dataframe tbody tr th {\n",
       "        vertical-align: top;\n",
       "    }\n",
       "\n",
       "    .dataframe thead th {\n",
       "        text-align: right;\n",
       "    }\n",
       "</style>\n",
       "<table border=\"1\" class=\"dataframe\">\n",
       "  <thead>\n",
       "    <tr style=\"text-align: right;\">\n",
       "      <th></th>\n",
       "      <th>number</th>\n",
       "      <th>incident_state</th>\n",
       "      <th>active</th>\n",
       "      <th>reassignment_count</th>\n",
       "      <th>reopen_count</th>\n",
       "      <th>sys_mod_count</th>\n",
       "      <th>made_sla</th>\n",
       "      <th>caller_id</th>\n",
       "      <th>opened_by</th>\n",
       "      <th>opened_at</th>\n",
       "      <th>...</th>\n",
       "      <th>u_priority_confirmation</th>\n",
       "      <th>notify</th>\n",
       "      <th>problem_id</th>\n",
       "      <th>rfc</th>\n",
       "      <th>vendor</th>\n",
       "      <th>caused_by</th>\n",
       "      <th>closed_code</th>\n",
       "      <th>resolved_by</th>\n",
       "      <th>resolved_at</th>\n",
       "      <th>closed_at</th>\n",
       "    </tr>\n",
       "  </thead>\n",
       "  <tbody>\n",
       "    <tr>\n",
       "      <th>0</th>\n",
       "      <td>INC0000045</td>\n",
       "      <td>New</td>\n",
       "      <td>True</td>\n",
       "      <td>0</td>\n",
       "      <td>0</td>\n",
       "      <td>0</td>\n",
       "      <td>True</td>\n",
       "      <td>Caller 2403</td>\n",
       "      <td>Opened by  8</td>\n",
       "      <td>29/2/2016 01:16</td>\n",
       "      <td>...</td>\n",
       "      <td>False</td>\n",
       "      <td>Do Not Notify</td>\n",
       "      <td>?</td>\n",
       "      <td>?</td>\n",
       "      <td>?</td>\n",
       "      <td>?</td>\n",
       "      <td>code 5</td>\n",
       "      <td>Resolved by 149</td>\n",
       "      <td>29/2/2016 11:29</td>\n",
       "      <td>5/3/2016 12:00</td>\n",
       "    </tr>\n",
       "    <tr>\n",
       "      <th>1</th>\n",
       "      <td>INC0000045</td>\n",
       "      <td>Resolved</td>\n",
       "      <td>True</td>\n",
       "      <td>0</td>\n",
       "      <td>0</td>\n",
       "      <td>2</td>\n",
       "      <td>True</td>\n",
       "      <td>Caller 2403</td>\n",
       "      <td>Opened by  8</td>\n",
       "      <td>29/2/2016 01:16</td>\n",
       "      <td>...</td>\n",
       "      <td>False</td>\n",
       "      <td>Do Not Notify</td>\n",
       "      <td>?</td>\n",
       "      <td>?</td>\n",
       "      <td>?</td>\n",
       "      <td>?</td>\n",
       "      <td>code 5</td>\n",
       "      <td>Resolved by 149</td>\n",
       "      <td>29/2/2016 11:29</td>\n",
       "      <td>5/3/2016 12:00</td>\n",
       "    </tr>\n",
       "    <tr>\n",
       "      <th>2</th>\n",
       "      <td>INC0000045</td>\n",
       "      <td>Resolved</td>\n",
       "      <td>True</td>\n",
       "      <td>0</td>\n",
       "      <td>0</td>\n",
       "      <td>3</td>\n",
       "      <td>True</td>\n",
       "      <td>Caller 2403</td>\n",
       "      <td>Opened by  8</td>\n",
       "      <td>29/2/2016 01:16</td>\n",
       "      <td>...</td>\n",
       "      <td>False</td>\n",
       "      <td>Do Not Notify</td>\n",
       "      <td>?</td>\n",
       "      <td>?</td>\n",
       "      <td>?</td>\n",
       "      <td>?</td>\n",
       "      <td>code 5</td>\n",
       "      <td>Resolved by 149</td>\n",
       "      <td>29/2/2016 11:29</td>\n",
       "      <td>5/3/2016 12:00</td>\n",
       "    </tr>\n",
       "    <tr>\n",
       "      <th>3</th>\n",
       "      <td>INC0000045</td>\n",
       "      <td>Closed</td>\n",
       "      <td>False</td>\n",
       "      <td>0</td>\n",
       "      <td>0</td>\n",
       "      <td>4</td>\n",
       "      <td>True</td>\n",
       "      <td>Caller 2403</td>\n",
       "      <td>Opened by  8</td>\n",
       "      <td>29/2/2016 01:16</td>\n",
       "      <td>...</td>\n",
       "      <td>False</td>\n",
       "      <td>Do Not Notify</td>\n",
       "      <td>?</td>\n",
       "      <td>?</td>\n",
       "      <td>?</td>\n",
       "      <td>?</td>\n",
       "      <td>code 5</td>\n",
       "      <td>Resolved by 149</td>\n",
       "      <td>29/2/2016 11:29</td>\n",
       "      <td>5/3/2016 12:00</td>\n",
       "    </tr>\n",
       "    <tr>\n",
       "      <th>4</th>\n",
       "      <td>INC0000047</td>\n",
       "      <td>New</td>\n",
       "      <td>True</td>\n",
       "      <td>0</td>\n",
       "      <td>0</td>\n",
       "      <td>0</td>\n",
       "      <td>True</td>\n",
       "      <td>Caller 2403</td>\n",
       "      <td>Opened by  397</td>\n",
       "      <td>29/2/2016 04:40</td>\n",
       "      <td>...</td>\n",
       "      <td>False</td>\n",
       "      <td>Do Not Notify</td>\n",
       "      <td>?</td>\n",
       "      <td>?</td>\n",
       "      <td>?</td>\n",
       "      <td>?</td>\n",
       "      <td>code 5</td>\n",
       "      <td>Resolved by 81</td>\n",
       "      <td>1/3/2016 09:52</td>\n",
       "      <td>6/3/2016 10:00</td>\n",
       "    </tr>\n",
       "  </tbody>\n",
       "</table>\n",
       "<p>5 rows × 36 columns</p>\n",
       "</div>"
      ],
      "text/plain": [
       "       number incident_state  active  reassignment_count  reopen_count  \\\n",
       "0  INC0000045            New    True                   0             0   \n",
       "1  INC0000045       Resolved    True                   0             0   \n",
       "2  INC0000045       Resolved    True                   0             0   \n",
       "3  INC0000045         Closed   False                   0             0   \n",
       "4  INC0000047            New    True                   0             0   \n",
       "\n",
       "   sys_mod_count  made_sla    caller_id       opened_by        opened_at  ...  \\\n",
       "0              0      True  Caller 2403    Opened by  8  29/2/2016 01:16  ...   \n",
       "1              2      True  Caller 2403    Opened by  8  29/2/2016 01:16  ...   \n",
       "2              3      True  Caller 2403    Opened by  8  29/2/2016 01:16  ...   \n",
       "3              4      True  Caller 2403    Opened by  8  29/2/2016 01:16  ...   \n",
       "4              0      True  Caller 2403  Opened by  397  29/2/2016 04:40  ...   \n",
       "\n",
       "  u_priority_confirmation         notify problem_id rfc vendor caused_by  \\\n",
       "0                   False  Do Not Notify          ?   ?      ?         ?   \n",
       "1                   False  Do Not Notify          ?   ?      ?         ?   \n",
       "2                   False  Do Not Notify          ?   ?      ?         ?   \n",
       "3                   False  Do Not Notify          ?   ?      ?         ?   \n",
       "4                   False  Do Not Notify          ?   ?      ?         ?   \n",
       "\n",
       "  closed_code      resolved_by      resolved_at       closed_at  \n",
       "0      code 5  Resolved by 149  29/2/2016 11:29  5/3/2016 12:00  \n",
       "1      code 5  Resolved by 149  29/2/2016 11:29  5/3/2016 12:00  \n",
       "2      code 5  Resolved by 149  29/2/2016 11:29  5/3/2016 12:00  \n",
       "3      code 5  Resolved by 149  29/2/2016 11:29  5/3/2016 12:00  \n",
       "4      code 5   Resolved by 81   1/3/2016 09:52  6/3/2016 10:00  \n",
       "\n",
       "[5 rows x 36 columns]"
      ]
     },
     "execution_count": 2,
     "metadata": {},
     "output_type": "execute_result"
    }
   ],
   "source": [
    "data=pd.read_csv('incident_event_log.csv')\n",
    "data.head()"
   ]
  },
  {
   "cell_type": "code",
   "execution_count": 3,
   "metadata": {
    "id": "HaNWxFpVJC2A"
   },
   "outputs": [],
   "source": [
    "df=data.copy()"
   ]
  },
  {
   "cell_type": "code",
   "execution_count": 4,
   "metadata": {
    "colab": {
     "base_uri": "https://localhost:8080/",
     "height": 307
    },
    "id": "1tSDqof8KXCU",
    "outputId": "45f9d083-c499-454d-8bed-498b1ee854fa",
    "scrolled": true
   },
   "outputs": [
    {
     "data": {
      "text/html": [
       "<div>\n",
       "<style scoped>\n",
       "    .dataframe tbody tr th:only-of-type {\n",
       "        vertical-align: middle;\n",
       "    }\n",
       "\n",
       "    .dataframe tbody tr th {\n",
       "        vertical-align: top;\n",
       "    }\n",
       "\n",
       "    .dataframe thead th {\n",
       "        text-align: right;\n",
       "    }\n",
       "</style>\n",
       "<table border=\"1\" class=\"dataframe\">\n",
       "  <thead>\n",
       "    <tr style=\"text-align: right;\">\n",
       "      <th></th>\n",
       "      <th>number</th>\n",
       "      <th>incident_state</th>\n",
       "      <th>active</th>\n",
       "      <th>reassignment_count</th>\n",
       "      <th>reopen_count</th>\n",
       "      <th>sys_mod_count</th>\n",
       "      <th>made_sla</th>\n",
       "      <th>caller_id</th>\n",
       "      <th>opened_by</th>\n",
       "      <th>opened_at</th>\n",
       "      <th>...</th>\n",
       "      <th>u_priority_confirmation</th>\n",
       "      <th>notify</th>\n",
       "      <th>problem_id</th>\n",
       "      <th>rfc</th>\n",
       "      <th>vendor</th>\n",
       "      <th>caused_by</th>\n",
       "      <th>closed_code</th>\n",
       "      <th>resolved_by</th>\n",
       "      <th>resolved_at</th>\n",
       "      <th>closed_at</th>\n",
       "    </tr>\n",
       "  </thead>\n",
       "  <tbody>\n",
       "    <tr>\n",
       "      <th>0</th>\n",
       "      <td>INC0000045</td>\n",
       "      <td>New</td>\n",
       "      <td>True</td>\n",
       "      <td>0</td>\n",
       "      <td>0</td>\n",
       "      <td>0</td>\n",
       "      <td>True</td>\n",
       "      <td>Caller 2403</td>\n",
       "      <td>Opened by  8</td>\n",
       "      <td>29/2/2016 01:16</td>\n",
       "      <td>...</td>\n",
       "      <td>False</td>\n",
       "      <td>Do Not Notify</td>\n",
       "      <td>?</td>\n",
       "      <td>?</td>\n",
       "      <td>?</td>\n",
       "      <td>?</td>\n",
       "      <td>code 5</td>\n",
       "      <td>Resolved by 149</td>\n",
       "      <td>29/2/2016 11:29</td>\n",
       "      <td>5/3/2016 12:00</td>\n",
       "    </tr>\n",
       "    <tr>\n",
       "      <th>1</th>\n",
       "      <td>INC0000045</td>\n",
       "      <td>Resolved</td>\n",
       "      <td>True</td>\n",
       "      <td>0</td>\n",
       "      <td>0</td>\n",
       "      <td>2</td>\n",
       "      <td>True</td>\n",
       "      <td>Caller 2403</td>\n",
       "      <td>Opened by  8</td>\n",
       "      <td>29/2/2016 01:16</td>\n",
       "      <td>...</td>\n",
       "      <td>False</td>\n",
       "      <td>Do Not Notify</td>\n",
       "      <td>?</td>\n",
       "      <td>?</td>\n",
       "      <td>?</td>\n",
       "      <td>?</td>\n",
       "      <td>code 5</td>\n",
       "      <td>Resolved by 149</td>\n",
       "      <td>29/2/2016 11:29</td>\n",
       "      <td>5/3/2016 12:00</td>\n",
       "    </tr>\n",
       "    <tr>\n",
       "      <th>2</th>\n",
       "      <td>INC0000045</td>\n",
       "      <td>Resolved</td>\n",
       "      <td>True</td>\n",
       "      <td>0</td>\n",
       "      <td>0</td>\n",
       "      <td>3</td>\n",
       "      <td>True</td>\n",
       "      <td>Caller 2403</td>\n",
       "      <td>Opened by  8</td>\n",
       "      <td>29/2/2016 01:16</td>\n",
       "      <td>...</td>\n",
       "      <td>False</td>\n",
       "      <td>Do Not Notify</td>\n",
       "      <td>?</td>\n",
       "      <td>?</td>\n",
       "      <td>?</td>\n",
       "      <td>?</td>\n",
       "      <td>code 5</td>\n",
       "      <td>Resolved by 149</td>\n",
       "      <td>29/2/2016 11:29</td>\n",
       "      <td>5/3/2016 12:00</td>\n",
       "    </tr>\n",
       "    <tr>\n",
       "      <th>3</th>\n",
       "      <td>INC0000045</td>\n",
       "      <td>Closed</td>\n",
       "      <td>False</td>\n",
       "      <td>0</td>\n",
       "      <td>0</td>\n",
       "      <td>4</td>\n",
       "      <td>True</td>\n",
       "      <td>Caller 2403</td>\n",
       "      <td>Opened by  8</td>\n",
       "      <td>29/2/2016 01:16</td>\n",
       "      <td>...</td>\n",
       "      <td>False</td>\n",
       "      <td>Do Not Notify</td>\n",
       "      <td>?</td>\n",
       "      <td>?</td>\n",
       "      <td>?</td>\n",
       "      <td>?</td>\n",
       "      <td>code 5</td>\n",
       "      <td>Resolved by 149</td>\n",
       "      <td>29/2/2016 11:29</td>\n",
       "      <td>5/3/2016 12:00</td>\n",
       "    </tr>\n",
       "    <tr>\n",
       "      <th>4</th>\n",
       "      <td>INC0000047</td>\n",
       "      <td>New</td>\n",
       "      <td>True</td>\n",
       "      <td>0</td>\n",
       "      <td>0</td>\n",
       "      <td>0</td>\n",
       "      <td>True</td>\n",
       "      <td>Caller 2403</td>\n",
       "      <td>Opened by  397</td>\n",
       "      <td>29/2/2016 04:40</td>\n",
       "      <td>...</td>\n",
       "      <td>False</td>\n",
       "      <td>Do Not Notify</td>\n",
       "      <td>?</td>\n",
       "      <td>?</td>\n",
       "      <td>?</td>\n",
       "      <td>?</td>\n",
       "      <td>code 5</td>\n",
       "      <td>Resolved by 81</td>\n",
       "      <td>1/3/2016 09:52</td>\n",
       "      <td>6/3/2016 10:00</td>\n",
       "    </tr>\n",
       "  </tbody>\n",
       "</table>\n",
       "<p>5 rows × 36 columns</p>\n",
       "</div>"
      ],
      "text/plain": [
       "       number incident_state  active  reassignment_count  reopen_count  \\\n",
       "0  INC0000045            New    True                   0             0   \n",
       "1  INC0000045       Resolved    True                   0             0   \n",
       "2  INC0000045       Resolved    True                   0             0   \n",
       "3  INC0000045         Closed   False                   0             0   \n",
       "4  INC0000047            New    True                   0             0   \n",
       "\n",
       "   sys_mod_count  made_sla    caller_id       opened_by        opened_at  ...  \\\n",
       "0              0      True  Caller 2403    Opened by  8  29/2/2016 01:16  ...   \n",
       "1              2      True  Caller 2403    Opened by  8  29/2/2016 01:16  ...   \n",
       "2              3      True  Caller 2403    Opened by  8  29/2/2016 01:16  ...   \n",
       "3              4      True  Caller 2403    Opened by  8  29/2/2016 01:16  ...   \n",
       "4              0      True  Caller 2403  Opened by  397  29/2/2016 04:40  ...   \n",
       "\n",
       "  u_priority_confirmation         notify problem_id rfc vendor caused_by  \\\n",
       "0                   False  Do Not Notify          ?   ?      ?         ?   \n",
       "1                   False  Do Not Notify          ?   ?      ?         ?   \n",
       "2                   False  Do Not Notify          ?   ?      ?         ?   \n",
       "3                   False  Do Not Notify          ?   ?      ?         ?   \n",
       "4                   False  Do Not Notify          ?   ?      ?         ?   \n",
       "\n",
       "  closed_code      resolved_by      resolved_at       closed_at  \n",
       "0      code 5  Resolved by 149  29/2/2016 11:29  5/3/2016 12:00  \n",
       "1      code 5  Resolved by 149  29/2/2016 11:29  5/3/2016 12:00  \n",
       "2      code 5  Resolved by 149  29/2/2016 11:29  5/3/2016 12:00  \n",
       "3      code 5  Resolved by 149  29/2/2016 11:29  5/3/2016 12:00  \n",
       "4      code 5   Resolved by 81   1/3/2016 09:52  6/3/2016 10:00  \n",
       "\n",
       "[5 rows x 36 columns]"
      ]
     },
     "execution_count": 4,
     "metadata": {},
     "output_type": "execute_result"
    }
   ],
   "source": [
    "df.head()"
   ]
  },
  {
   "cell_type": "code",
   "execution_count": 5,
   "metadata": {
    "colab": {
     "base_uri": "https://localhost:8080/"
    },
    "id": "TT32sKhbK5iM",
    "outputId": "effe6e01-b8b1-4f95-974d-94d9cdf8e61f"
   },
   "outputs": [
    {
     "data": {
      "text/plain": [
       "(141712, 36)"
      ]
     },
     "execution_count": 5,
     "metadata": {},
     "output_type": "execute_result"
    }
   ],
   "source": [
    "df.shape"
   ]
  },
  {
   "cell_type": "code",
   "execution_count": 6,
   "metadata": {
    "colab": {
     "base_uri": "https://localhost:8080/"
    },
    "id": "OpWyUFROIeO8",
    "outputId": "26b2691c-5823-446d-dc34-d4fad47cafe6",
    "scrolled": true
   },
   "outputs": [
    {
     "name": "stdout",
     "output_type": "stream",
     "text": [
      "<class 'pandas.core.frame.DataFrame'>\n",
      "RangeIndex: 141712 entries, 0 to 141711\n",
      "Data columns (total 36 columns):\n",
      " #   Column                   Non-Null Count   Dtype \n",
      "---  ------                   --------------   ----- \n",
      " 0   number                   141712 non-null  object\n",
      " 1   incident_state           141712 non-null  object\n",
      " 2   active                   141712 non-null  bool  \n",
      " 3   reassignment_count       141712 non-null  int64 \n",
      " 4   reopen_count             141712 non-null  int64 \n",
      " 5   sys_mod_count            141712 non-null  int64 \n",
      " 6   made_sla                 141712 non-null  bool  \n",
      " 7   caller_id                141712 non-null  object\n",
      " 8   opened_by                141712 non-null  object\n",
      " 9   opened_at                141712 non-null  object\n",
      " 10  sys_created_by           141712 non-null  object\n",
      " 11  sys_created_at           141712 non-null  object\n",
      " 12  sys_updated_by           141712 non-null  object\n",
      " 13  sys_updated_at           141712 non-null  object\n",
      " 14  contact_type             141712 non-null  object\n",
      " 15  location                 141712 non-null  object\n",
      " 16  category                 141712 non-null  object\n",
      " 17  subcategory              141712 non-null  object\n",
      " 18  u_symptom                141712 non-null  object\n",
      " 19  cmdb_ci                  141712 non-null  object\n",
      " 20  impact                   141712 non-null  object\n",
      " 21  urgency                  141712 non-null  object\n",
      " 22  priority                 141712 non-null  object\n",
      " 23  assignment_group         141712 non-null  object\n",
      " 24  assigned_to              141712 non-null  object\n",
      " 25  knowledge                141712 non-null  bool  \n",
      " 26  u_priority_confirmation  141712 non-null  bool  \n",
      " 27  notify                   141712 non-null  object\n",
      " 28  problem_id               141712 non-null  object\n",
      " 29  rfc                      141712 non-null  object\n",
      " 30  vendor                   141712 non-null  object\n",
      " 31  caused_by                141712 non-null  object\n",
      " 32  closed_code              141712 non-null  object\n",
      " 33  resolved_by              141712 non-null  object\n",
      " 34  resolved_at              141712 non-null  object\n",
      " 35  closed_at                141712 non-null  object\n",
      "dtypes: bool(4), int64(3), object(29)\n",
      "memory usage: 35.1+ MB\n"
     ]
    }
   ],
   "source": [
    "df.info()"
   ]
  },
  {
   "cell_type": "code",
   "execution_count": 7,
   "metadata": {
    "colab": {
     "base_uri": "https://localhost:8080/",
     "height": 295
    },
    "id": "Era15GbYK8rX",
    "outputId": "7e37e924-dd6d-4d09-9a38-5742390612ff"
   },
   "outputs": [
    {
     "data": {
      "text/html": [
       "<div>\n",
       "<style scoped>\n",
       "    .dataframe tbody tr th:only-of-type {\n",
       "        vertical-align: middle;\n",
       "    }\n",
       "\n",
       "    .dataframe tbody tr th {\n",
       "        vertical-align: top;\n",
       "    }\n",
       "\n",
       "    .dataframe thead th {\n",
       "        text-align: right;\n",
       "    }\n",
       "</style>\n",
       "<table border=\"1\" class=\"dataframe\">\n",
       "  <thead>\n",
       "    <tr style=\"text-align: right;\">\n",
       "      <th></th>\n",
       "      <th>reassignment_count</th>\n",
       "      <th>reopen_count</th>\n",
       "      <th>sys_mod_count</th>\n",
       "    </tr>\n",
       "  </thead>\n",
       "  <tbody>\n",
       "    <tr>\n",
       "      <th>count</th>\n",
       "      <td>141712.000000</td>\n",
       "      <td>141712.000000</td>\n",
       "      <td>141712.000000</td>\n",
       "    </tr>\n",
       "    <tr>\n",
       "      <th>mean</th>\n",
       "      <td>1.104197</td>\n",
       "      <td>0.021918</td>\n",
       "      <td>5.080946</td>\n",
       "    </tr>\n",
       "    <tr>\n",
       "      <th>std</th>\n",
       "      <td>1.734673</td>\n",
       "      <td>0.207302</td>\n",
       "      <td>7.680652</td>\n",
       "    </tr>\n",
       "    <tr>\n",
       "      <th>min</th>\n",
       "      <td>0.000000</td>\n",
       "      <td>0.000000</td>\n",
       "      <td>0.000000</td>\n",
       "    </tr>\n",
       "    <tr>\n",
       "      <th>25%</th>\n",
       "      <td>0.000000</td>\n",
       "      <td>0.000000</td>\n",
       "      <td>1.000000</td>\n",
       "    </tr>\n",
       "    <tr>\n",
       "      <th>50%</th>\n",
       "      <td>1.000000</td>\n",
       "      <td>0.000000</td>\n",
       "      <td>3.000000</td>\n",
       "    </tr>\n",
       "    <tr>\n",
       "      <th>75%</th>\n",
       "      <td>1.000000</td>\n",
       "      <td>0.000000</td>\n",
       "      <td>6.000000</td>\n",
       "    </tr>\n",
       "    <tr>\n",
       "      <th>max</th>\n",
       "      <td>27.000000</td>\n",
       "      <td>8.000000</td>\n",
       "      <td>129.000000</td>\n",
       "    </tr>\n",
       "  </tbody>\n",
       "</table>\n",
       "</div>"
      ],
      "text/plain": [
       "       reassignment_count   reopen_count  sys_mod_count\n",
       "count       141712.000000  141712.000000  141712.000000\n",
       "mean             1.104197       0.021918       5.080946\n",
       "std              1.734673       0.207302       7.680652\n",
       "min              0.000000       0.000000       0.000000\n",
       "25%              0.000000       0.000000       1.000000\n",
       "50%              1.000000       0.000000       3.000000\n",
       "75%              1.000000       0.000000       6.000000\n",
       "max             27.000000       8.000000     129.000000"
      ]
     },
     "execution_count": 7,
     "metadata": {},
     "output_type": "execute_result"
    }
   ],
   "source": [
    "df.describe()"
   ]
  },
  {
   "cell_type": "code",
   "execution_count": 8,
   "metadata": {
    "id": "Ta88ag8VKcZG"
   },
   "outputs": [],
   "source": [
    "# In some of feature there are some symbols, we can replace them with nan \n",
    "df=df.replace('?',np.nan)"
   ]
  },
  {
   "cell_type": "markdown",
   "metadata": {
    "id": "JbvubtSyrnL1"
   },
   "source": [
    "**Handling Outliers**"
   ]
  },
  {
   "cell_type": "code",
   "execution_count": 9,
   "metadata": {
    "colab": {
     "base_uri": "https://localhost:8080/",
     "height": 439
    },
    "id": "ag_yQx_2mCmi",
    "outputId": "bdaa6478-7d36-4198-91d1-2a29c9ea0d77"
   },
   "outputs": [
    {
     "data": {
      "text/plain": [
       "<matplotlib.axes._subplots.AxesSubplot at 0x1ec00daa0a0>"
      ]
     },
     "execution_count": 9,
     "metadata": {},
     "output_type": "execute_result"
    },
    {
     "data": {
      "image/png": "[encoded data removed]",
      "text/plain": [
       "<Figure size 1296x360 with 2 Axes>"
      ]
     },
     "metadata": {
      "needs_background": "light"
     },
     "output_type": "display_data"
    }
   ],
   "source": [
    "plt.figure(figsize=(18,5))\n",
    "plt.subplot(1,2,1)\n",
    "sns.distplot(df['reassignment_count'])\n",
    "plt.subplot(1,2,2)\n",
    "sns.boxplot(df['reassignment_count'])"
   ]
  },
  {
   "cell_type": "code",
   "execution_count": 10,
   "metadata": {
    "id": "g9uIOvJOmc6T"
   },
   "outputs": [],
   "source": [
    "# As we can see 'reassignment_count' has some outliers and the data is right skewed. "
   ]
  },
  {
   "cell_type": "code",
   "execution_count": 11,
   "metadata": {
    "colab": {
     "base_uri": "https://localhost:8080/"
    },
    "id": "f0FmULtfmmo1",
    "outputId": "2acd5ccd-f5bc-4572-97b4-f3892742ac3e"
   },
   "outputs": [
    {
     "name": "stdout",
     "output_type": "stream",
     "text": [
      "IQR = 1.0 Lower limit -1.5 Upper limit 2.5\n"
     ]
    }
   ],
   "source": [
    "#Handling Outliers\n",
    "IQR=df.reassignment_count.quantile(0.75)-df.reassignment_count.quantile(0.25)\n",
    "lb=df.reassignment_count.quantile(0.25)-(IQR*1.5)  # Considering Extream outliers (i.e. * 3)\n",
    "ub=df.reassignment_count.quantile(0.75)+(IQR*1.5)\n",
    "print('IQR =',+IQR,\"Lower limit\",+lb,\"Upper limit\",+ub)"
   ]
  },
  {
   "cell_type": "code",
   "execution_count": 12,
   "metadata": {
    "id": "PojbjkgOntqv"
   },
   "outputs": [],
   "source": [
    "df.loc[df['reassignment_count']>=ub,'reassignment_count']=ub"
   ]
  },
  {
   "cell_type": "code",
   "execution_count": 13,
   "metadata": {
    "colab": {
     "base_uri": "https://localhost:8080/",
     "height": 439
    },
    "id": "hKccmzHkovnb",
    "outputId": "fbdf514e-e7be-4049-9eff-2bdab9156763"
   },
   "outputs": [
    {
     "data": {
      "text/plain": [
       "<matplotlib.axes._subplots.AxesSubplot at 0x1ec003d2250>"
      ]
     },
     "execution_count": 13,
     "metadata": {},
     "output_type": "execute_result"
    },
    {
     "data": {
      "image/png": "[encoded data removed]",
      "text/plain": [
       "<Figure size 1296x360 with 2 Axes>"
      ]
     },
     "metadata": {
      "needs_background": "light"
     },
     "output_type": "display_data"
    }
   ],
   "source": [
    "plt.figure(figsize=(18,5))\n",
    "plt.subplot(1,2,1)\n",
    "sns.distplot(df['reassignment_count'])\n",
    "plt.subplot(1,2,2)\n",
    "sns.boxplot(df['reassignment_count'])"
   ]
  },
  {
   "cell_type": "code",
   "execution_count": 14,
   "metadata": {
    "colab": {
     "base_uri": "https://localhost:8080/",
     "height": 439
    },
    "id": "ntSPGkf2o9ud",
    "outputId": "1efc38ac-32d6-4573-f8bc-5f5590d273c4"
   },
   "outputs": [
    {
     "data": {
      "text/plain": [
       "<matplotlib.legend.Legend at 0x1ec010e5190>"
      ]
     },
     "execution_count": 14,
     "metadata": {},
     "output_type": "execute_result"
    },
    {
     "data": {
      "image/png": "[encoded data removed]",
      "text/plain": [
       "<Figure size 864x360 with 1 Axes>"
      ]
     },
     "metadata": {
      "needs_background": "light"
     },
     "output_type": "display_data"
    }
   ],
   "source": [
    "#compairing with actual feature\n",
    "ax=plt.figure(figsize=(12,5))\n",
    "ax=sns.distplot(data['reassignment_count'],label='With Outliers')\n",
    "ax=sns.distplot(df['reassignment_count'],label='Without Outliers')\n",
    "ax.legend(loc='best')\n"
   ]
  },
  {
   "cell_type": "code",
   "execution_count": 15,
   "metadata": {
    "colab": {
     "base_uri": "https://localhost:8080/",
     "height": 439
    },
    "id": "LRPcVVyYrzrd",
    "outputId": "ae159a9b-921e-4e22-becc-722ece63fea6"
   },
   "outputs": [
    {
     "data": {
      "text/plain": [
       "<matplotlib.axes._subplots.AxesSubplot at 0x1ec010cfbb0>"
      ]
     },
     "execution_count": 15,
     "metadata": {},
     "output_type": "execute_result"
    },
    {
     "data": {
      "image/png": "[encoded data removed]",
      "text/plain": [
       "<Figure size 1296x360 with 2 Axes>"
      ]
     },
     "metadata": {
      "needs_background": "light"
     },
     "output_type": "display_data"
    }
   ],
   "source": [
    "plt.figure(figsize=(18,5))\n",
    "plt.subplot(1,2,1)\n",
    "sns.distplot(df['sys_mod_count'])\n",
    "plt.subplot(1,2,2)\n",
    "sns.boxplot(df['sys_mod_count'])"
   ]
  },
  {
   "cell_type": "code",
   "execution_count": 16,
   "metadata": {
    "colab": {
     "base_uri": "https://localhost:8080/"
    },
    "id": "cNxgwlNmr8Yk",
    "outputId": "c97d2dd2-96c0-46cd-f6bd-20b37440ce03"
   },
   "outputs": [
    {
     "name": "stdout",
     "output_type": "stream",
     "text": [
      "IQR = 5.0 Lower limit -6.5 Upper limit 13.5\n"
     ]
    }
   ],
   "source": [
    "# As we can see 'reassignment_count' has some outliers and the data is right skewed.\n",
    "#Handling Outliers\n",
    "IQR=df.sys_mod_count.quantile(0.75)-df.sys_mod_count.quantile(0.25)\n",
    "lb=df.sys_mod_count.quantile(0.25)-(IQR*1.5) \n",
    "ub=df.sys_mod_count.quantile(0.75)+(IQR*1.5)\n",
    "print('IQR =',+IQR,\"Lower limit\",+lb,\"Upper limit\",+ub)"
   ]
  },
  {
   "cell_type": "code",
   "execution_count": 17,
   "metadata": {
    "id": "GCVgWVmusJ5v"
   },
   "outputs": [],
   "source": [
    "df.loc[df['sys_mod_count']>=ub,'sys_mod_count']=ub"
   ]
  },
  {
   "cell_type": "code",
   "execution_count": 18,
   "metadata": {
    "colab": {
     "base_uri": "https://localhost:8080/",
     "height": 439
    },
    "id": "e0F0Gs8esQZB",
    "outputId": "0047ff85-409d-4d55-f894-5600592fc20d"
   },
   "outputs": [
    {
     "data": {
      "text/plain": [
       "<matplotlib.axes._subplots.AxesSubplot at 0x1ec05b2c400>"
      ]
     },
     "execution_count": 18,
     "metadata": {},
     "output_type": "execute_result"
    },
    {
     "data": {
      "image/png": "[encoded data removed]",
      "text/plain": [
       "<Figure size 1296x360 with 2 Axes>"
      ]
     },
     "metadata": {
      "needs_background": "light"
     },
     "output_type": "display_data"
    }
   ],
   "source": [
    "plt.figure(figsize=(18,5))\n",
    "plt.subplot(1,2,1)\n",
    "sns.distplot(df['sys_mod_count'])\n",
    "plt.subplot(1,2,2)\n",
    "sns.boxplot(df['sys_mod_count'])"
   ]
  },
  {
   "cell_type": "code",
   "execution_count": 19,
   "metadata": {
    "colab": {
     "base_uri": "https://localhost:8080/",
     "height": 439
    },
    "id": "uisWEV-psd_Y",
    "outputId": "584387e9-e198-4db9-8fc6-82ae5603957b",
    "scrolled": true
   },
   "outputs": [
    {
     "data": {
      "text/plain": [
       "<matplotlib.legend.Legend at 0x1ec00df6d90>"
      ]
     },
     "execution_count": 19,
     "metadata": {},
     "output_type": "execute_result"
    },
    {
     "data": {
      "image/png": "[encoded data removed]",
      "text/plain": [
       "<Figure size 864x360 with 1 Axes>"
      ]
     },
     "metadata": {
      "needs_background": "light"
     },
     "output_type": "display_data"
    }
   ],
   "source": [
    "#compairing with actual feature\n",
    "ax=plt.figure(figsize=(12,5))\n",
    "ax=sns.distplot(data['sys_mod_count'],label='With Outliers')\n",
    "ax=sns.distplot(df['sys_mod_count'],label='Without Outliers')\n",
    "ax.legend(loc='best')"
   ]
  },
  {
   "cell_type": "markdown",
   "metadata": {
    "id": "wGk3_u3IIgct"
   },
   "source": [
    "**Handling Categorical Data**"
   ]
  },
  {
   "cell_type": "code",
   "execution_count": 20,
   "metadata": {
    "id": "f2auT3w8LLO7"
   },
   "outputs": [],
   "source": [
    "# As we can see every feature has some numeric value,  so we can split them and only consider numeric value.\n",
    "df['caller_id']=df['caller_id'].str.split(expand=True)[1]\n",
    "df['opened_by']=df['opened_by'].str.split(expand=True)[2]\n",
    "df['sys_created_by']=df['sys_created_by'].str.split(expand=True)[2]\n",
    "df['sys_updated_by']=df['sys_updated_by'].str.split(expand=True)[2]\n",
    "df['location']=df['location'].str.split(expand=True)[1]\n",
    "df['category']=df['category'].str.split(expand=True)[1]\n",
    "df['subcategory']=df['subcategory'].str.split(expand=True)[1]\n",
    "df['u_symptom']=df['u_symptom'].str.split(expand=True)[1]\n",
    "df['assignment_group']=df['assignment_group'].str.split(expand=True)[1]\n",
    "df['closed_code']=df['closed_code'].str.split(expand=True)[1]\n",
    "df['resolved_by']=df['resolved_by'].str.split(expand=True)[2]\n",
    "df['assigned_to']=df['assigned_to'].str.split(expand=True)[1]\n",
    "df['urgency']=df['urgency'].str.split(expand=True)[0]\n",
    "df['priority']=df['priority'].str.split(expand=True)[0]\n",
    "df['impact']=df['impact'].str.split(expand=True)[0]\n",
    "\n"
   ]
  },
  {
   "cell_type": "code",
   "execution_count": 33,
   "metadata": {
    "scrolled": true
   },
   "outputs": [],
   "source": [
    "# for number feature we can replace initial three letters with 0\n",
    "df['number']=df['number'].str.replace('INC','0').astype(int)"
   ]
  },
  {
   "cell_type": "code",
   "execution_count": 34,
   "metadata": {},
   "outputs": [],
   "source": [
    "# Using Label Encoder\n",
    "from sklearn.preprocessing import LabelEncoder\n",
    "lb=LabelEncoder()\n",
    "df['contact_type']=lb.fit_transform(df['contact_type'])\n",
    "\n",
    "# Using Mapping Fuction\n",
    "value={'Do Not Notify':1,'Send Email':0}\n",
    "df['notify']=df['notify'].map(value)"
   ]
  },
  {
   "cell_type": "code",
   "execution_count": 35,
   "metadata": {
    "id": "mlSx_J08M0eF"
   },
   "outputs": [],
   "source": [
    "#Handling Boolien values\n",
    "df['incident_state']=lb.fit_transform(df['incident_state'])\n",
    "df['active']=lb.fit_transform(df['active'])\n",
    "df['made_sla']=lb.fit_transform(df['made_sla'])\n",
    "df['knowledge']=lb.fit_transform(df['knowledge'])\n",
    "df['u_priority_confirmation']=lb.fit_transform(df['u_priority_confirmation'])"
   ]
  },
  {
   "cell_type": "code",
   "execution_count": 36,
   "metadata": {
    "colab": {
     "base_uri": "https://localhost:8080/",
     "height": 307
    },
    "id": "h82U3u4nPIAm",
    "outputId": "c762f182-6bf2-475f-e975-2e0c0818cd2d"
   },
   "outputs": [
    {
     "data": {
      "text/html": [
       "<div>\n",
       "<style scoped>\n",
       "    .dataframe tbody tr th:only-of-type {\n",
       "        vertical-align: middle;\n",
       "    }\n",
       "\n",
       "    .dataframe tbody tr th {\n",
       "        vertical-align: top;\n",
       "    }\n",
       "\n",
       "    .dataframe thead th {\n",
       "        text-align: right;\n",
       "    }\n",
       "</style>\n",
       "<table border=\"1\" class=\"dataframe\">\n",
       "  <thead>\n",
       "    <tr style=\"text-align: right;\">\n",
       "      <th></th>\n",
       "      <th>number</th>\n",
       "      <th>incident_state</th>\n",
       "      <th>active</th>\n",
       "      <th>reassignment_count</th>\n",
       "      <th>reopen_count</th>\n",
       "      <th>sys_mod_count</th>\n",
       "      <th>made_sla</th>\n",
       "      <th>caller_id</th>\n",
       "      <th>opened_by</th>\n",
       "      <th>opened_at</th>\n",
       "      <th>...</th>\n",
       "      <th>u_priority_confirmation</th>\n",
       "      <th>notify</th>\n",
       "      <th>problem_id</th>\n",
       "      <th>rfc</th>\n",
       "      <th>vendor</th>\n",
       "      <th>caused_by</th>\n",
       "      <th>closed_code</th>\n",
       "      <th>resolved_by</th>\n",
       "      <th>resolved_at</th>\n",
       "      <th>closed_at</th>\n",
       "    </tr>\n",
       "  </thead>\n",
       "  <tbody>\n",
       "    <tr>\n",
       "      <th>0</th>\n",
       "      <td>45</td>\n",
       "      <td>7</td>\n",
       "      <td>1</td>\n",
       "      <td>0.0</td>\n",
       "      <td>0</td>\n",
       "      <td>0.0</td>\n",
       "      <td>1</td>\n",
       "      <td>2403</td>\n",
       "      <td>8</td>\n",
       "      <td>29/2/2016 01:16</td>\n",
       "      <td>...</td>\n",
       "      <td>0</td>\n",
       "      <td>NaN</td>\n",
       "      <td>NaN</td>\n",
       "      <td>NaN</td>\n",
       "      <td>NaN</td>\n",
       "      <td>NaN</td>\n",
       "      <td>5</td>\n",
       "      <td>149</td>\n",
       "      <td>29/2/2016 11:29</td>\n",
       "      <td>5/3/2016 12:00</td>\n",
       "    </tr>\n",
       "    <tr>\n",
       "      <th>1</th>\n",
       "      <td>45</td>\n",
       "      <td>8</td>\n",
       "      <td>1</td>\n",
       "      <td>0.0</td>\n",
       "      <td>0</td>\n",
       "      <td>2.0</td>\n",
       "      <td>1</td>\n",
       "      <td>2403</td>\n",
       "      <td>8</td>\n",
       "      <td>29/2/2016 01:16</td>\n",
       "      <td>...</td>\n",
       "      <td>0</td>\n",
       "      <td>NaN</td>\n",
       "      <td>NaN</td>\n",
       "      <td>NaN</td>\n",
       "      <td>NaN</td>\n",
       "      <td>NaN</td>\n",
       "      <td>5</td>\n",
       "      <td>149</td>\n",
       "      <td>29/2/2016 11:29</td>\n",
       "      <td>5/3/2016 12:00</td>\n",
       "    </tr>\n",
       "    <tr>\n",
       "      <th>2</th>\n",
       "      <td>45</td>\n",
       "      <td>8</td>\n",
       "      <td>1</td>\n",
       "      <td>0.0</td>\n",
       "      <td>0</td>\n",
       "      <td>3.0</td>\n",
       "      <td>1</td>\n",
       "      <td>2403</td>\n",
       "      <td>8</td>\n",
       "      <td>29/2/2016 01:16</td>\n",
       "      <td>...</td>\n",
       "      <td>0</td>\n",
       "      <td>NaN</td>\n",
       "      <td>NaN</td>\n",
       "      <td>NaN</td>\n",
       "      <td>NaN</td>\n",
       "      <td>NaN</td>\n",
       "      <td>5</td>\n",
       "      <td>149</td>\n",
       "      <td>29/2/2016 11:29</td>\n",
       "      <td>5/3/2016 12:00</td>\n",
       "    </tr>\n",
       "    <tr>\n",
       "      <th>3</th>\n",
       "      <td>45</td>\n",
       "      <td>6</td>\n",
       "      <td>0</td>\n",
       "      <td>0.0</td>\n",
       "      <td>0</td>\n",
       "      <td>4.0</td>\n",
       "      <td>1</td>\n",
       "      <td>2403</td>\n",
       "      <td>8</td>\n",
       "      <td>29/2/2016 01:16</td>\n",
       "      <td>...</td>\n",
       "      <td>0</td>\n",
       "      <td>NaN</td>\n",
       "      <td>NaN</td>\n",
       "      <td>NaN</td>\n",
       "      <td>NaN</td>\n",
       "      <td>NaN</td>\n",
       "      <td>5</td>\n",
       "      <td>149</td>\n",
       "      <td>29/2/2016 11:29</td>\n",
       "      <td>5/3/2016 12:00</td>\n",
       "    </tr>\n",
       "    <tr>\n",
       "      <th>4</th>\n",
       "      <td>47</td>\n",
       "      <td>7</td>\n",
       "      <td>1</td>\n",
       "      <td>0.0</td>\n",
       "      <td>0</td>\n",
       "      <td>0.0</td>\n",
       "      <td>1</td>\n",
       "      <td>2403</td>\n",
       "      <td>397</td>\n",
       "      <td>29/2/2016 04:40</td>\n",
       "      <td>...</td>\n",
       "      <td>0</td>\n",
       "      <td>NaN</td>\n",
       "      <td>NaN</td>\n",
       "      <td>NaN</td>\n",
       "      <td>NaN</td>\n",
       "      <td>NaN</td>\n",
       "      <td>5</td>\n",
       "      <td>81</td>\n",
       "      <td>1/3/2016 09:52</td>\n",
       "      <td>6/3/2016 10:00</td>\n",
       "    </tr>\n",
       "  </tbody>\n",
       "</table>\n",
       "<p>5 rows × 36 columns</p>\n",
       "</div>"
      ],
      "text/plain": [
       "   number  incident_state  active  reassignment_count  reopen_count  \\\n",
       "0      45               7       1                 0.0             0   \n",
       "1      45               8       1                 0.0             0   \n",
       "2      45               8       1                 0.0             0   \n",
       "3      45               6       0                 0.0             0   \n",
       "4      47               7       1                 0.0             0   \n",
       "\n",
       "   sys_mod_count  made_sla caller_id opened_by        opened_at  ...  \\\n",
       "0            0.0         1      2403         8  29/2/2016 01:16  ...   \n",
       "1            2.0         1      2403         8  29/2/2016 01:16  ...   \n",
       "2            3.0         1      2403         8  29/2/2016 01:16  ...   \n",
       "3            4.0         1      2403         8  29/2/2016 01:16  ...   \n",
       "4            0.0         1      2403       397  29/2/2016 04:40  ...   \n",
       "\n",
       "  u_priority_confirmation notify problem_id  rfc  vendor caused_by  \\\n",
       "0                       0    NaN        NaN  NaN     NaN       NaN   \n",
       "1                       0    NaN        NaN  NaN     NaN       NaN   \n",
       "2                       0    NaN        NaN  NaN     NaN       NaN   \n",
       "3                       0    NaN        NaN  NaN     NaN       NaN   \n",
       "4                       0    NaN        NaN  NaN     NaN       NaN   \n",
       "\n",
       "  closed_code resolved_by      resolved_at       closed_at  \n",
       "0           5         149  29/2/2016 11:29  5/3/2016 12:00  \n",
       "1           5         149  29/2/2016 11:29  5/3/2016 12:00  \n",
       "2           5         149  29/2/2016 11:29  5/3/2016 12:00  \n",
       "3           5         149  29/2/2016 11:29  5/3/2016 12:00  \n",
       "4           5          81   1/3/2016 09:52  6/3/2016 10:00  \n",
       "\n",
       "[5 rows x 36 columns]"
      ]
     },
     "execution_count": 36,
     "metadata": {},
     "output_type": "execute_result"
    }
   ],
   "source": [
    "df.head()"
   ]
  },
  {
   "cell_type": "code",
   "execution_count": 37,
   "metadata": {
    "colab": {
     "base_uri": "https://localhost:8080/"
    },
    "id": "ztr33Cq5vUP5",
    "outputId": "e29260e1-9510-4ac8-ab03-8afbc976369a"
   },
   "outputs": [
    {
     "name": "stdout",
     "output_type": "stream",
     "text": [
      "<class 'pandas.core.frame.DataFrame'>\n",
      "RangeIndex: 141712 entries, 0 to 141711\n",
      "Data columns (total 36 columns):\n",
      " #   Column                   Non-Null Count   Dtype  \n",
      "---  ------                   --------------   -----  \n",
      " 0   number                   141712 non-null  int32  \n",
      " 1   incident_state           141712 non-null  int64  \n",
      " 2   active                   141712 non-null  int64  \n",
      " 3   reassignment_count       141712 non-null  float64\n",
      " 4   reopen_count             141712 non-null  int64  \n",
      " 5   sys_mod_count            141712 non-null  float64\n",
      " 6   made_sla                 141712 non-null  int64  \n",
      " 7   caller_id                141683 non-null  object \n",
      " 8   opened_by                136877 non-null  object \n",
      " 9   opened_at                141712 non-null  object \n",
      " 10  sys_created_by           88636 non-null   object \n",
      " 11  sys_created_at           88636 non-null   object \n",
      " 12  sys_updated_by           141712 non-null  object \n",
      " 13  sys_updated_at           141712 non-null  object \n",
      " 14  contact_type             141712 non-null  int64  \n",
      " 15  location                 141636 non-null  object \n",
      " 16  category                 141634 non-null  object \n",
      " 17  subcategory              141601 non-null  object \n",
      " 18  u_symptom                108748 non-null  object \n",
      " 19  cmdb_ci                  445 non-null     object \n",
      " 20  impact                   141712 non-null  object \n",
      " 21  urgency                  141712 non-null  object \n",
      " 22  priority                 141712 non-null  object \n",
      " 23  assignment_group         127499 non-null  object \n",
      " 24  assigned_to              114216 non-null  object \n",
      " 25  knowledge                141712 non-null  int64  \n",
      " 26  u_priority_confirmation  141712 non-null  int64  \n",
      " 27  notify                   0 non-null       float64\n",
      " 28  problem_id               2295 non-null    object \n",
      " 29  rfc                      991 non-null     object \n",
      " 30  vendor                   244 non-null     object \n",
      " 31  caused_by                23 non-null      object \n",
      " 32  closed_code              140998 non-null  object \n",
      " 33  resolved_by              141486 non-null  object \n",
      " 34  resolved_at              138571 non-null  object \n",
      " 35  closed_at                141712 non-null  object \n",
      "dtypes: float64(3), int32(1), int64(7), object(25)\n",
      "memory usage: 38.4+ MB\n"
     ]
    }
   ],
   "source": [
    "df.info()"
   ]
  },
  {
   "cell_type": "markdown",
   "metadata": {
    "id": "-q9-sGYRLHXq"
   },
   "source": [
    "**Checking for Null values**"
   ]
  },
  {
   "cell_type": "code",
   "execution_count": 38,
   "metadata": {
    "colab": {
     "base_uri": "https://localhost:8080/"
    },
    "id": "9GRbsA5nQpep",
    "outputId": "c159c83a-2ee3-4102-8b0f-ca6e86e74dd4"
   },
   "outputs": [
    {
     "data": {
      "text/plain": [
       "number                          0\n",
       "incident_state                  0\n",
       "active                          0\n",
       "reassignment_count              0\n",
       "reopen_count                    0\n",
       "sys_mod_count                   0\n",
       "made_sla                        0\n",
       "caller_id                      29\n",
       "opened_by                    4835\n",
       "opened_at                       0\n",
       "sys_created_by              53076\n",
       "sys_created_at              53076\n",
       "sys_updated_by                  0\n",
       "sys_updated_at                  0\n",
       "contact_type                    0\n",
       "location                       76\n",
       "category                       78\n",
       "subcategory                   111\n",
       "u_symptom                   32964\n",
       "cmdb_ci                    141267\n",
       "impact                          0\n",
       "urgency                         0\n",
       "priority                        0\n",
       "assignment_group            14213\n",
       "assigned_to                 27496\n",
       "knowledge                       0\n",
       "u_priority_confirmation         0\n",
       "notify                     141712\n",
       "problem_id                 139417\n",
       "rfc                        140721\n",
       "vendor                     141468\n",
       "caused_by                  141689\n",
       "closed_code                   714\n",
       "resolved_by                   226\n",
       "resolved_at                  3141\n",
       "closed_at                       0\n",
       "dtype: int64"
      ]
     },
     "execution_count": 38,
     "metadata": {},
     "output_type": "execute_result"
    }
   ],
   "source": [
    "df.isnull().sum()"
   ]
  },
  {
   "cell_type": "code",
   "execution_count": 39,
   "metadata": {
    "colab": {
     "base_uri": "https://localhost:8080/",
     "height": 446
    },
    "id": "dCFo2tfzSGjF",
    "outputId": "b7e27afb-5db5-4340-d6c9-f3c435df0fd8"
   },
   "outputs": [
    {
     "data": {
      "text/plain": [
       "<matplotlib.axes._subplots.AxesSubplot at 0x1ec01016e20>"
      ]
     },
     "execution_count": 39,
     "metadata": {},
     "output_type": "execute_result"
    },
    {
     "data": {
      "image/png": "[encoded data removed]",
      "text/plain": [
       "<Figure size 1152x360 with 2 Axes>"
      ]
     },
     "metadata": {
      "needs_background": "light"
     },
     "output_type": "display_data"
    }
   ],
   "source": [
    "plt.figure(figsize=(16,5))\n",
    "sns.heatmap(df.isnull())"
   ]
  },
  {
   "cell_type": "code",
   "execution_count": 40,
   "metadata": {
    "colab": {
     "base_uri": "https://localhost:8080/"
    },
    "id": "g6CmxS25QRuJ",
    "outputId": "5dee4d69-211c-4768-e911-945231add527"
   },
   "outputs": [
    {
     "data": {
      "text/plain": [
       "number                       0.000000\n",
       "incident_state               0.000000\n",
       "active                       0.000000\n",
       "reassignment_count           0.000000\n",
       "reopen_count                 0.000000\n",
       "sys_mod_count                0.000000\n",
       "made_sla                     0.000000\n",
       "caller_id                    0.020464\n",
       "opened_by                    3.411849\n",
       "opened_at                    0.000000\n",
       "sys_created_by              37.453427\n",
       "sys_created_at              37.453427\n",
       "sys_updated_by               0.000000\n",
       "sys_updated_at               0.000000\n",
       "contact_type                 0.000000\n",
       "location                     0.053630\n",
       "category                     0.055041\n",
       "subcategory                  0.078328\n",
       "u_symptom                   23.261262\n",
       "cmdb_ci                     99.685983\n",
       "impact                       0.000000\n",
       "urgency                      0.000000\n",
       "priority                     0.000000\n",
       "assignment_group            10.029496\n",
       "assigned_to                 19.402732\n",
       "knowledge                    0.000000\n",
       "u_priority_confirmation      0.000000\n",
       "notify                     100.000000\n",
       "problem_id                  98.380518\n",
       "rfc                         99.300694\n",
       "vendor                      99.827820\n",
       "caused_by                   99.983770\n",
       "closed_code                  0.503839\n",
       "resolved_by                  0.159478\n",
       "resolved_at                  2.216467\n",
       "closed_at                    0.000000\n",
       "dtype: float64"
      ]
     },
     "execution_count": 40,
     "metadata": {},
     "output_type": "execute_result"
    }
   ],
   "source": [
    "# Percentage of null features\n",
    "null_features=df.isnull().sum()/df.shape[0]*100\n",
    "null_features"
   ]
  },
  {
   "cell_type": "markdown",
   "metadata": {},
   "source": [
    "'''As we seen the percentage of missing data for these columns is above 90,\n",
    "    so we can drop them as these are inconvenient to fill.'''\n"
   ]
  },
  {
   "cell_type": "code",
   "execution_count": 41,
   "metadata": {
    "colab": {
     "base_uri": "https://localhost:8080/"
    },
    "id": "TwTKbo9wSW0f",
    "outputId": "59eab623-63dd-4e1f-84fc-59507a992f0a"
   },
   "outputs": [
    {
     "data": {
      "text/plain": [
       "Index(['cmdb_ci', 'notify', 'problem_id', 'rfc', 'vendor', 'caused_by'], dtype='object')"
      ]
     },
     "execution_count": 41,
     "metadata": {},
     "output_type": "execute_result"
    }
   ],
   "source": [
    "drop_columns=null_features[null_features>90].keys()\n",
    "drop_columns"
   ]
  },
  {
   "cell_type": "code",
   "execution_count": 42,
   "metadata": {
    "colab": {
     "base_uri": "https://localhost:8080/",
     "height": 307
    },
    "id": "4rKa0LwTRVXd",
    "outputId": "af42cf15-7ac8-451c-b6ea-69c0e8277f56"
   },
   "outputs": [
    {
     "data": {
      "text/html": [
       "<div>\n",
       "<style scoped>\n",
       "    .dataframe tbody tr th:only-of-type {\n",
       "        vertical-align: middle;\n",
       "    }\n",
       "\n",
       "    .dataframe tbody tr th {\n",
       "        vertical-align: top;\n",
       "    }\n",
       "\n",
       "    .dataframe thead th {\n",
       "        text-align: right;\n",
       "    }\n",
       "</style>\n",
       "<table border=\"1\" class=\"dataframe\">\n",
       "  <thead>\n",
       "    <tr style=\"text-align: right;\">\n",
       "      <th></th>\n",
       "      <th>number</th>\n",
       "      <th>incident_state</th>\n",
       "      <th>active</th>\n",
       "      <th>reassignment_count</th>\n",
       "      <th>reopen_count</th>\n",
       "      <th>sys_mod_count</th>\n",
       "      <th>made_sla</th>\n",
       "      <th>caller_id</th>\n",
       "      <th>opened_by</th>\n",
       "      <th>opened_at</th>\n",
       "      <th>...</th>\n",
       "      <th>urgency</th>\n",
       "      <th>priority</th>\n",
       "      <th>assignment_group</th>\n",
       "      <th>assigned_to</th>\n",
       "      <th>knowledge</th>\n",
       "      <th>u_priority_confirmation</th>\n",
       "      <th>closed_code</th>\n",
       "      <th>resolved_by</th>\n",
       "      <th>resolved_at</th>\n",
       "      <th>closed_at</th>\n",
       "    </tr>\n",
       "  </thead>\n",
       "  <tbody>\n",
       "    <tr>\n",
       "      <th>0</th>\n",
       "      <td>45</td>\n",
       "      <td>7</td>\n",
       "      <td>1</td>\n",
       "      <td>0.0</td>\n",
       "      <td>0</td>\n",
       "      <td>0.0</td>\n",
       "      <td>1</td>\n",
       "      <td>2403</td>\n",
       "      <td>8</td>\n",
       "      <td>29/2/2016 01:16</td>\n",
       "      <td>...</td>\n",
       "      <td>2</td>\n",
       "      <td>3</td>\n",
       "      <td>56</td>\n",
       "      <td>NaN</td>\n",
       "      <td>1</td>\n",
       "      <td>0</td>\n",
       "      <td>5</td>\n",
       "      <td>149</td>\n",
       "      <td>29/2/2016 11:29</td>\n",
       "      <td>5/3/2016 12:00</td>\n",
       "    </tr>\n",
       "    <tr>\n",
       "      <th>1</th>\n",
       "      <td>45</td>\n",
       "      <td>8</td>\n",
       "      <td>1</td>\n",
       "      <td>0.0</td>\n",
       "      <td>0</td>\n",
       "      <td>2.0</td>\n",
       "      <td>1</td>\n",
       "      <td>2403</td>\n",
       "      <td>8</td>\n",
       "      <td>29/2/2016 01:16</td>\n",
       "      <td>...</td>\n",
       "      <td>2</td>\n",
       "      <td>3</td>\n",
       "      <td>56</td>\n",
       "      <td>NaN</td>\n",
       "      <td>1</td>\n",
       "      <td>0</td>\n",
       "      <td>5</td>\n",
       "      <td>149</td>\n",
       "      <td>29/2/2016 11:29</td>\n",
       "      <td>5/3/2016 12:00</td>\n",
       "    </tr>\n",
       "    <tr>\n",
       "      <th>2</th>\n",
       "      <td>45</td>\n",
       "      <td>8</td>\n",
       "      <td>1</td>\n",
       "      <td>0.0</td>\n",
       "      <td>0</td>\n",
       "      <td>3.0</td>\n",
       "      <td>1</td>\n",
       "      <td>2403</td>\n",
       "      <td>8</td>\n",
       "      <td>29/2/2016 01:16</td>\n",
       "      <td>...</td>\n",
       "      <td>2</td>\n",
       "      <td>3</td>\n",
       "      <td>56</td>\n",
       "      <td>NaN</td>\n",
       "      <td>1</td>\n",
       "      <td>0</td>\n",
       "      <td>5</td>\n",
       "      <td>149</td>\n",
       "      <td>29/2/2016 11:29</td>\n",
       "      <td>5/3/2016 12:00</td>\n",
       "    </tr>\n",
       "    <tr>\n",
       "      <th>3</th>\n",
       "      <td>45</td>\n",
       "      <td>6</td>\n",
       "      <td>0</td>\n",
       "      <td>0.0</td>\n",
       "      <td>0</td>\n",
       "      <td>4.0</td>\n",
       "      <td>1</td>\n",
       "      <td>2403</td>\n",
       "      <td>8</td>\n",
       "      <td>29/2/2016 01:16</td>\n",
       "      <td>...</td>\n",
       "      <td>2</td>\n",
       "      <td>3</td>\n",
       "      <td>56</td>\n",
       "      <td>NaN</td>\n",
       "      <td>1</td>\n",
       "      <td>0</td>\n",
       "      <td>5</td>\n",
       "      <td>149</td>\n",
       "      <td>29/2/2016 11:29</td>\n",
       "      <td>5/3/2016 12:00</td>\n",
       "    </tr>\n",
       "    <tr>\n",
       "      <th>4</th>\n",
       "      <td>47</td>\n",
       "      <td>7</td>\n",
       "      <td>1</td>\n",
       "      <td>0.0</td>\n",
       "      <td>0</td>\n",
       "      <td>0.0</td>\n",
       "      <td>1</td>\n",
       "      <td>2403</td>\n",
       "      <td>397</td>\n",
       "      <td>29/2/2016 04:40</td>\n",
       "      <td>...</td>\n",
       "      <td>2</td>\n",
       "      <td>3</td>\n",
       "      <td>70</td>\n",
       "      <td>89</td>\n",
       "      <td>1</td>\n",
       "      <td>0</td>\n",
       "      <td>5</td>\n",
       "      <td>81</td>\n",
       "      <td>1/3/2016 09:52</td>\n",
       "      <td>6/3/2016 10:00</td>\n",
       "    </tr>\n",
       "  </tbody>\n",
       "</table>\n",
       "<p>5 rows × 30 columns</p>\n",
       "</div>"
      ],
      "text/plain": [
       "   number  incident_state  active  reassignment_count  reopen_count  \\\n",
       "0      45               7       1                 0.0             0   \n",
       "1      45               8       1                 0.0             0   \n",
       "2      45               8       1                 0.0             0   \n",
       "3      45               6       0                 0.0             0   \n",
       "4      47               7       1                 0.0             0   \n",
       "\n",
       "   sys_mod_count  made_sla caller_id opened_by        opened_at  ... urgency  \\\n",
       "0            0.0         1      2403         8  29/2/2016 01:16  ...       2   \n",
       "1            2.0         1      2403         8  29/2/2016 01:16  ...       2   \n",
       "2            3.0         1      2403         8  29/2/2016 01:16  ...       2   \n",
       "3            4.0         1      2403         8  29/2/2016 01:16  ...       2   \n",
       "4            0.0         1      2403       397  29/2/2016 04:40  ...       2   \n",
       "\n",
       "  priority assignment_group assigned_to  knowledge u_priority_confirmation  \\\n",
       "0        3               56         NaN          1                       0   \n",
       "1        3               56         NaN          1                       0   \n",
       "2        3               56         NaN          1                       0   \n",
       "3        3               56         NaN          1                       0   \n",
       "4        3               70          89          1                       0   \n",
       "\n",
       "  closed_code resolved_by      resolved_at       closed_at  \n",
       "0           5         149  29/2/2016 11:29  5/3/2016 12:00  \n",
       "1           5         149  29/2/2016 11:29  5/3/2016 12:00  \n",
       "2           5         149  29/2/2016 11:29  5/3/2016 12:00  \n",
       "3           5         149  29/2/2016 11:29  5/3/2016 12:00  \n",
       "4           5          81   1/3/2016 09:52  6/3/2016 10:00  \n",
       "\n",
       "[5 rows x 30 columns]"
      ]
     },
     "execution_count": 42,
     "metadata": {},
     "output_type": "execute_result"
    }
   ],
   "source": [
    "df=df.drop(columns=drop_columns,axis=1)\n",
    "df.head()"
   ]
  },
  {
   "cell_type": "markdown",
   "metadata": {
    "id": "I2Trr6-0ak8a"
   },
   "source": [
    "**Handling Date Features**"
   ]
  },
  {
   "cell_type": "code",
   "execution_count": 43,
   "metadata": {
    "id": "cYAtxt3sRnln"
   },
   "outputs": [],
   "source": [
    "df['opened_at'] = pd.to_datetime(df.opened_at)\n",
    "df['sys_created_at'] = pd.to_datetime(df.sys_created_at)\n",
    "df['sys_updated_at'] = pd.to_datetime(df.sys_updated_at)\n",
    "df['resolved_at'] = pd.to_datetime(df.resolved_at)\n",
    "df['closed_at'] = pd.to_datetime(df.closed_at)"
   ]
  },
  {
   "cell_type": "code",
   "execution_count": 44,
   "metadata": {
    "id": "Be8XoUxUbo84"
   },
   "outputs": [],
   "source": [
    "df['Waiting_Time(min)']=df['sys_updated_at']-df['opened_at']"
   ]
  },
  {
   "cell_type": "code",
   "execution_count": 45,
   "metadata": {
    "id": "fHhcH0ZPcdsZ"
   },
   "outputs": [],
   "source": [
    "# Converting days into minutes\n",
    "df['Waiting_Time(min)']=df['Waiting_Time(min)']/np.timedelta64(1,'m')"
   ]
  },
  {
   "cell_type": "code",
   "execution_count": 46,
   "metadata": {
    "id": "5c3dvNuTcEhS"
   },
   "outputs": [],
   "source": [
    "df['Duration(minutes)']=df['closed_at']-df['opened_at']"
   ]
  },
  {
   "cell_type": "code",
   "execution_count": 47,
   "metadata": {
    "id": "T4VpboM0c6Hb"
   },
   "outputs": [],
   "source": [
    "df['Duration(minutes)']=df['Duration(minutes)']/np.timedelta64(1,'m')"
   ]
  },
  {
   "cell_type": "code",
   "execution_count": 48,
   "metadata": {
    "colab": {
     "base_uri": "https://localhost:8080/",
     "height": 391
    },
    "id": "3D5_xFzMcUVT",
    "outputId": "dc571acc-6c4a-49b7-d8c5-17ab253ac8d4"
   },
   "outputs": [
    {
     "data": {
      "text/html": [
       "<div>\n",
       "<style scoped>\n",
       "    .dataframe tbody tr th:only-of-type {\n",
       "        vertical-align: middle;\n",
       "    }\n",
       "\n",
       "    .dataframe tbody tr th {\n",
       "        vertical-align: top;\n",
       "    }\n",
       "\n",
       "    .dataframe thead th {\n",
       "        text-align: right;\n",
       "    }\n",
       "</style>\n",
       "<table border=\"1\" class=\"dataframe\">\n",
       "  <thead>\n",
       "    <tr style=\"text-align: right;\">\n",
       "      <th></th>\n",
       "      <th>number</th>\n",
       "      <th>incident_state</th>\n",
       "      <th>active</th>\n",
       "      <th>reassignment_count</th>\n",
       "      <th>reopen_count</th>\n",
       "      <th>sys_mod_count</th>\n",
       "      <th>made_sla</th>\n",
       "      <th>caller_id</th>\n",
       "      <th>opened_by</th>\n",
       "      <th>opened_at</th>\n",
       "      <th>...</th>\n",
       "      <th>assignment_group</th>\n",
       "      <th>assigned_to</th>\n",
       "      <th>knowledge</th>\n",
       "      <th>u_priority_confirmation</th>\n",
       "      <th>closed_code</th>\n",
       "      <th>resolved_by</th>\n",
       "      <th>resolved_at</th>\n",
       "      <th>closed_at</th>\n",
       "      <th>Waiting_Time(min)</th>\n",
       "      <th>Duration(minutes)</th>\n",
       "    </tr>\n",
       "  </thead>\n",
       "  <tbody>\n",
       "    <tr>\n",
       "      <th>0</th>\n",
       "      <td>45</td>\n",
       "      <td>7</td>\n",
       "      <td>1</td>\n",
       "      <td>0.0</td>\n",
       "      <td>0</td>\n",
       "      <td>0.0</td>\n",
       "      <td>1</td>\n",
       "      <td>2403</td>\n",
       "      <td>8</td>\n",
       "      <td>2016-02-29 01:16:00</td>\n",
       "      <td>...</td>\n",
       "      <td>56</td>\n",
       "      <td>NaN</td>\n",
       "      <td>1</td>\n",
       "      <td>0</td>\n",
       "      <td>5</td>\n",
       "      <td>149</td>\n",
       "      <td>2016-02-29 11:29:00</td>\n",
       "      <td>2016-05-03 12:00:00</td>\n",
       "      <td>7.0</td>\n",
       "      <td>92804.0</td>\n",
       "    </tr>\n",
       "    <tr>\n",
       "      <th>1</th>\n",
       "      <td>45</td>\n",
       "      <td>8</td>\n",
       "      <td>1</td>\n",
       "      <td>0.0</td>\n",
       "      <td>0</td>\n",
       "      <td>2.0</td>\n",
       "      <td>1</td>\n",
       "      <td>2403</td>\n",
       "      <td>8</td>\n",
       "      <td>2016-02-29 01:16:00</td>\n",
       "      <td>...</td>\n",
       "      <td>56</td>\n",
       "      <td>NaN</td>\n",
       "      <td>1</td>\n",
       "      <td>0</td>\n",
       "      <td>5</td>\n",
       "      <td>149</td>\n",
       "      <td>2016-02-29 11:29:00</td>\n",
       "      <td>2016-05-03 12:00:00</td>\n",
       "      <td>457.0</td>\n",
       "      <td>92804.0</td>\n",
       "    </tr>\n",
       "    <tr>\n",
       "      <th>2</th>\n",
       "      <td>45</td>\n",
       "      <td>8</td>\n",
       "      <td>1</td>\n",
       "      <td>0.0</td>\n",
       "      <td>0</td>\n",
       "      <td>3.0</td>\n",
       "      <td>1</td>\n",
       "      <td>2403</td>\n",
       "      <td>8</td>\n",
       "      <td>2016-02-29 01:16:00</td>\n",
       "      <td>...</td>\n",
       "      <td>56</td>\n",
       "      <td>NaN</td>\n",
       "      <td>1</td>\n",
       "      <td>0</td>\n",
       "      <td>5</td>\n",
       "      <td>149</td>\n",
       "      <td>2016-02-29 11:29:00</td>\n",
       "      <td>2016-05-03 12:00:00</td>\n",
       "      <td>613.0</td>\n",
       "      <td>92804.0</td>\n",
       "    </tr>\n",
       "    <tr>\n",
       "      <th>3</th>\n",
       "      <td>45</td>\n",
       "      <td>6</td>\n",
       "      <td>0</td>\n",
       "      <td>0.0</td>\n",
       "      <td>0</td>\n",
       "      <td>4.0</td>\n",
       "      <td>1</td>\n",
       "      <td>2403</td>\n",
       "      <td>8</td>\n",
       "      <td>2016-02-29 01:16:00</td>\n",
       "      <td>...</td>\n",
       "      <td>56</td>\n",
       "      <td>NaN</td>\n",
       "      <td>1</td>\n",
       "      <td>0</td>\n",
       "      <td>5</td>\n",
       "      <td>149</td>\n",
       "      <td>2016-02-29 11:29:00</td>\n",
       "      <td>2016-05-03 12:00:00</td>\n",
       "      <td>92804.0</td>\n",
       "      <td>92804.0</td>\n",
       "    </tr>\n",
       "    <tr>\n",
       "      <th>4</th>\n",
       "      <td>47</td>\n",
       "      <td>7</td>\n",
       "      <td>1</td>\n",
       "      <td>0.0</td>\n",
       "      <td>0</td>\n",
       "      <td>0.0</td>\n",
       "      <td>1</td>\n",
       "      <td>2403</td>\n",
       "      <td>397</td>\n",
       "      <td>2016-02-29 04:40:00</td>\n",
       "      <td>...</td>\n",
       "      <td>70</td>\n",
       "      <td>89</td>\n",
       "      <td>1</td>\n",
       "      <td>0</td>\n",
       "      <td>5</td>\n",
       "      <td>81</td>\n",
       "      <td>2016-01-03 09:52:00</td>\n",
       "      <td>2016-06-03 10:00:00</td>\n",
       "      <td>17.0</td>\n",
       "      <td>137120.0</td>\n",
       "    </tr>\n",
       "  </tbody>\n",
       "</table>\n",
       "<p>5 rows × 32 columns</p>\n",
       "</div>"
      ],
      "text/plain": [
       "   number  incident_state  active  reassignment_count  reopen_count  \\\n",
       "0      45               7       1                 0.0             0   \n",
       "1      45               8       1                 0.0             0   \n",
       "2      45               8       1                 0.0             0   \n",
       "3      45               6       0                 0.0             0   \n",
       "4      47               7       1                 0.0             0   \n",
       "\n",
       "   sys_mod_count  made_sla caller_id opened_by           opened_at  ...  \\\n",
       "0            0.0         1      2403         8 2016-02-29 01:16:00  ...   \n",
       "1            2.0         1      2403         8 2016-02-29 01:16:00  ...   \n",
       "2            3.0         1      2403         8 2016-02-29 01:16:00  ...   \n",
       "3            4.0         1      2403         8 2016-02-29 01:16:00  ...   \n",
       "4            0.0         1      2403       397 2016-02-29 04:40:00  ...   \n",
       "\n",
       "  assignment_group assigned_to knowledge u_priority_confirmation  closed_code  \\\n",
       "0               56         NaN         1                       0            5   \n",
       "1               56         NaN         1                       0            5   \n",
       "2               56         NaN         1                       0            5   \n",
       "3               56         NaN         1                       0            5   \n",
       "4               70          89         1                       0            5   \n",
       "\n",
       "  resolved_by         resolved_at           closed_at Waiting_Time(min)  \\\n",
       "0         149 2016-02-29 11:29:00 2016-05-03 12:00:00               7.0   \n",
       "1         149 2016-02-29 11:29:00 2016-05-03 12:00:00             457.0   \n",
       "2         149 2016-02-29 11:29:00 2016-05-03 12:00:00             613.0   \n",
       "3         149 2016-02-29 11:29:00 2016-05-03 12:00:00           92804.0   \n",
       "4          81 2016-01-03 09:52:00 2016-06-03 10:00:00              17.0   \n",
       "\n",
       "  Duration(minutes)  \n",
       "0           92804.0  \n",
       "1           92804.0  \n",
       "2           92804.0  \n",
       "3           92804.0  \n",
       "4          137120.0  \n",
       "\n",
       "[5 rows x 32 columns]"
      ]
     },
     "execution_count": 48,
     "metadata": {},
     "output_type": "execute_result"
    }
   ],
   "source": [
    "df.head(5)"
   ]
  },
  {
   "cell_type": "code",
   "execution_count": 49,
   "metadata": {
    "colab": {
     "base_uri": "https://localhost:8080/"
    },
    "id": "lt-iayelhaUF",
    "outputId": "1317b09f-7875-4c8a-a393-0fae31b22de7"
   },
   "outputs": [
    {
     "data": {
      "text/plain": [
       "number                      0.000000\n",
       "incident_state              0.000000\n",
       "active                      0.000000\n",
       "reassignment_count          0.000000\n",
       "reopen_count                0.000000\n",
       "sys_mod_count               0.000000\n",
       "made_sla                    0.000000\n",
       "caller_id                   0.020464\n",
       "opened_by                   3.411849\n",
       "opened_at                   0.000000\n",
       "sys_created_by             37.453427\n",
       "sys_created_at             37.453427\n",
       "sys_updated_by              0.000000\n",
       "sys_updated_at              0.000000\n",
       "contact_type                0.000000\n",
       "location                    0.053630\n",
       "category                    0.055041\n",
       "subcategory                 0.078328\n",
       "u_symptom                  23.261262\n",
       "impact                      0.000000\n",
       "urgency                     0.000000\n",
       "priority                    0.000000\n",
       "assignment_group           10.029496\n",
       "assigned_to                19.402732\n",
       "knowledge                   0.000000\n",
       "u_priority_confirmation     0.000000\n",
       "closed_code                 0.503839\n",
       "resolved_by                 0.159478\n",
       "resolved_at                 2.216467\n",
       "closed_at                   0.000000\n",
       "Waiting_Time(min)           0.000000\n",
       "Duration(minutes)           0.000000\n",
       "dtype: float64"
      ]
     },
     "execution_count": 49,
     "metadata": {},
     "output_type": "execute_result"
    }
   ],
   "source": [
    "df.isnull().sum()/df.shape[0]*100"
   ]
  },
  {
   "cell_type": "markdown",
   "metadata": {
    "colab": {
     "base_uri": "https://localhost:8080/",
     "height": 52
    },
    "id": "Zu9zdrnQaOQg",
    "outputId": "e53b592d-8549-4bef-d3bc-8d2054e0e3a9"
   },
   "source": [
    "'''as we can see 'sys_created_by', 'sys_created_at' are having 37% of NAN values. these features can be relate from 'opened_at'. \n",
    "'sys_created_at' is just showcasing at which timethe incident is loaded into the system. and there is no value change untile the new incident occurs''' "
   ]
  },
  {
   "cell_type": "code",
   "execution_count": 50,
   "metadata": {
    "id": "c9BfuvwPcH0I"
   },
   "outputs": [],
   "source": [
    "df=df.drop(['sys_created_by','sys_created_at'],axis=1)"
   ]
  },
  {
   "cell_type": "code",
   "execution_count": 51,
   "metadata": {
    "id": "g1jhzGSOkAmX"
   },
   "outputs": [],
   "source": [
    "# As we created new feature based on opened_at and closed_at, we can drop them as well.\n",
    "df=df.drop(['opened_at','sys_updated_at','resolved_at','closed_at'],axis=1)"
   ]
  },
  {
   "cell_type": "code",
   "execution_count": 52,
   "metadata": {
    "colab": {
     "base_uri": "https://localhost:8080/",
     "height": 223
    },
    "id": "MKgYIWrTkjY0",
    "outputId": "1543f967-8c20-478f-aec2-f227971fa5c2"
   },
   "outputs": [
    {
     "data": {
      "text/html": [
       "<div>\n",
       "<style scoped>\n",
       "    .dataframe tbody tr th:only-of-type {\n",
       "        vertical-align: middle;\n",
       "    }\n",
       "\n",
       "    .dataframe tbody tr th {\n",
       "        vertical-align: top;\n",
       "    }\n",
       "\n",
       "    .dataframe thead th {\n",
       "        text-align: right;\n",
       "    }\n",
       "</style>\n",
       "<table border=\"1\" class=\"dataframe\">\n",
       "  <thead>\n",
       "    <tr style=\"text-align: right;\">\n",
       "      <th></th>\n",
       "      <th>number</th>\n",
       "      <th>incident_state</th>\n",
       "      <th>active</th>\n",
       "      <th>reassignment_count</th>\n",
       "      <th>reopen_count</th>\n",
       "      <th>sys_mod_count</th>\n",
       "      <th>made_sla</th>\n",
       "      <th>caller_id</th>\n",
       "      <th>opened_by</th>\n",
       "      <th>sys_updated_by</th>\n",
       "      <th>...</th>\n",
       "      <th>urgency</th>\n",
       "      <th>priority</th>\n",
       "      <th>assignment_group</th>\n",
       "      <th>assigned_to</th>\n",
       "      <th>knowledge</th>\n",
       "      <th>u_priority_confirmation</th>\n",
       "      <th>closed_code</th>\n",
       "      <th>resolved_by</th>\n",
       "      <th>Waiting_Time(min)</th>\n",
       "      <th>Duration(minutes)</th>\n",
       "    </tr>\n",
       "  </thead>\n",
       "  <tbody>\n",
       "    <tr>\n",
       "      <th>0</th>\n",
       "      <td>45</td>\n",
       "      <td>7</td>\n",
       "      <td>1</td>\n",
       "      <td>0.0</td>\n",
       "      <td>0</td>\n",
       "      <td>0.0</td>\n",
       "      <td>1</td>\n",
       "      <td>2403</td>\n",
       "      <td>8</td>\n",
       "      <td>21</td>\n",
       "      <td>...</td>\n",
       "      <td>2</td>\n",
       "      <td>3</td>\n",
       "      <td>56</td>\n",
       "      <td>NaN</td>\n",
       "      <td>1</td>\n",
       "      <td>0</td>\n",
       "      <td>5</td>\n",
       "      <td>149</td>\n",
       "      <td>7.0</td>\n",
       "      <td>92804.0</td>\n",
       "    </tr>\n",
       "    <tr>\n",
       "      <th>1</th>\n",
       "      <td>45</td>\n",
       "      <td>8</td>\n",
       "      <td>1</td>\n",
       "      <td>0.0</td>\n",
       "      <td>0</td>\n",
       "      <td>2.0</td>\n",
       "      <td>1</td>\n",
       "      <td>2403</td>\n",
       "      <td>8</td>\n",
       "      <td>642</td>\n",
       "      <td>...</td>\n",
       "      <td>2</td>\n",
       "      <td>3</td>\n",
       "      <td>56</td>\n",
       "      <td>NaN</td>\n",
       "      <td>1</td>\n",
       "      <td>0</td>\n",
       "      <td>5</td>\n",
       "      <td>149</td>\n",
       "      <td>457.0</td>\n",
       "      <td>92804.0</td>\n",
       "    </tr>\n",
       "    <tr>\n",
       "      <th>2</th>\n",
       "      <td>45</td>\n",
       "      <td>8</td>\n",
       "      <td>1</td>\n",
       "      <td>0.0</td>\n",
       "      <td>0</td>\n",
       "      <td>3.0</td>\n",
       "      <td>1</td>\n",
       "      <td>2403</td>\n",
       "      <td>8</td>\n",
       "      <td>804</td>\n",
       "      <td>...</td>\n",
       "      <td>2</td>\n",
       "      <td>3</td>\n",
       "      <td>56</td>\n",
       "      <td>NaN</td>\n",
       "      <td>1</td>\n",
       "      <td>0</td>\n",
       "      <td>5</td>\n",
       "      <td>149</td>\n",
       "      <td>613.0</td>\n",
       "      <td>92804.0</td>\n",
       "    </tr>\n",
       "    <tr>\n",
       "      <th>3</th>\n",
       "      <td>45</td>\n",
       "      <td>6</td>\n",
       "      <td>0</td>\n",
       "      <td>0.0</td>\n",
       "      <td>0</td>\n",
       "      <td>4.0</td>\n",
       "      <td>1</td>\n",
       "      <td>2403</td>\n",
       "      <td>8</td>\n",
       "      <td>908</td>\n",
       "      <td>...</td>\n",
       "      <td>2</td>\n",
       "      <td>3</td>\n",
       "      <td>56</td>\n",
       "      <td>NaN</td>\n",
       "      <td>1</td>\n",
       "      <td>0</td>\n",
       "      <td>5</td>\n",
       "      <td>149</td>\n",
       "      <td>92804.0</td>\n",
       "      <td>92804.0</td>\n",
       "    </tr>\n",
       "    <tr>\n",
       "      <th>4</th>\n",
       "      <td>47</td>\n",
       "      <td>7</td>\n",
       "      <td>1</td>\n",
       "      <td>0.0</td>\n",
       "      <td>0</td>\n",
       "      <td>0.0</td>\n",
       "      <td>1</td>\n",
       "      <td>2403</td>\n",
       "      <td>397</td>\n",
       "      <td>746</td>\n",
       "      <td>...</td>\n",
       "      <td>2</td>\n",
       "      <td>3</td>\n",
       "      <td>70</td>\n",
       "      <td>89</td>\n",
       "      <td>1</td>\n",
       "      <td>0</td>\n",
       "      <td>5</td>\n",
       "      <td>81</td>\n",
       "      <td>17.0</td>\n",
       "      <td>137120.0</td>\n",
       "    </tr>\n",
       "  </tbody>\n",
       "</table>\n",
       "<p>5 rows × 26 columns</p>\n",
       "</div>"
      ],
      "text/plain": [
       "   number  incident_state  active  reassignment_count  reopen_count  \\\n",
       "0      45               7       1                 0.0             0   \n",
       "1      45               8       1                 0.0             0   \n",
       "2      45               8       1                 0.0             0   \n",
       "3      45               6       0                 0.0             0   \n",
       "4      47               7       1                 0.0             0   \n",
       "\n",
       "   sys_mod_count  made_sla caller_id opened_by sys_updated_by  ...  urgency  \\\n",
       "0            0.0         1      2403         8             21  ...        2   \n",
       "1            2.0         1      2403         8            642  ...        2   \n",
       "2            3.0         1      2403         8            804  ...        2   \n",
       "3            4.0         1      2403         8            908  ...        2   \n",
       "4            0.0         1      2403       397            746  ...        2   \n",
       "\n",
       "  priority assignment_group assigned_to knowledge u_priority_confirmation  \\\n",
       "0        3               56         NaN         1                       0   \n",
       "1        3               56         NaN         1                       0   \n",
       "2        3               56         NaN         1                       0   \n",
       "3        3               56         NaN         1                       0   \n",
       "4        3               70          89         1                       0   \n",
       "\n",
       "  closed_code resolved_by Waiting_Time(min) Duration(minutes)  \n",
       "0           5         149               7.0           92804.0  \n",
       "1           5         149             457.0           92804.0  \n",
       "2           5         149             613.0           92804.0  \n",
       "3           5         149           92804.0           92804.0  \n",
       "4           5          81              17.0          137120.0  \n",
       "\n",
       "[5 rows x 26 columns]"
      ]
     },
     "execution_count": 52,
     "metadata": {},
     "output_type": "execute_result"
    }
   ],
   "source": [
    "df.head()"
   ]
  },
  {
   "cell_type": "markdown",
   "metadata": {},
   "source": [
    "### DataType Conversion from object to int"
   ]
  },
  {
   "cell_type": "code",
   "execution_count": 53,
   "metadata": {
    "id": "iAffDFx6ueqv"
   },
   "outputs": [],
   "source": [
    "df['caller_id']=pd.to_numeric(df['caller_id'])\n",
    "df['opened_by']=pd.to_numeric(df['opened_by'])\n",
    "df['sys_updated_by']=pd.to_numeric(df['sys_updated_by'])\n",
    "df['location']=pd.to_numeric(df['location'])\n",
    "df['category']=pd.to_numeric(df['category'])\n",
    "df['subcategory']=pd.to_numeric(df['subcategory'])\n",
    "df['u_symptom']=pd.to_numeric(df['u_symptom'])\n",
    "df['impact']=pd.to_numeric(df['impact'])\n",
    "df['urgency']=pd.to_numeric(df['urgency'])\n",
    "df['priority']=pd.to_numeric(df['priority'])\n",
    "df['assignment_group']=pd.to_numeric(df['assignment_group'])\n",
    "df['closed_code']=pd.to_numeric(df['closed_code'])\n",
    "df['resolved_by']=pd.to_numeric(df['resolved_by'])\n",
    "df['assigned_to']=pd.to_numeric(df['assigned_to'])\n"
   ]
  },
  {
   "cell_type": "code",
   "execution_count": 54,
   "metadata": {},
   "outputs": [
    {
     "name": "stdout",
     "output_type": "stream",
     "text": [
      "<class 'pandas.core.frame.DataFrame'>\n",
      "RangeIndex: 141712 entries, 0 to 141711\n",
      "Data columns (total 26 columns):\n",
      " #   Column                   Non-Null Count   Dtype  \n",
      "---  ------                   --------------   -----  \n",
      " 0   number                   141712 non-null  int32  \n",
      " 1   incident_state           141712 non-null  int64  \n",
      " 2   active                   141712 non-null  int64  \n",
      " 3   reassignment_count       141712 non-null  float64\n",
      " 4   reopen_count             141712 non-null  int64  \n",
      " 5   sys_mod_count            141712 non-null  float64\n",
      " 6   made_sla                 141712 non-null  int64  \n",
      " 7   caller_id                141683 non-null  float64\n",
      " 8   opened_by                136877 non-null  float64\n",
      " 9   sys_updated_by           141712 non-null  int64  \n",
      " 10  contact_type             141712 non-null  int64  \n",
      " 11  location                 141636 non-null  float64\n",
      " 12  category                 141634 non-null  float64\n",
      " 13  subcategory              141601 non-null  float64\n",
      " 14  u_symptom                108748 non-null  float64\n",
      " 15  impact                   141712 non-null  int64  \n",
      " 16  urgency                  141712 non-null  int64  \n",
      " 17  priority                 141712 non-null  int64  \n",
      " 18  assignment_group         127499 non-null  float64\n",
      " 19  assigned_to              114216 non-null  float64\n",
      " 20  knowledge                141712 non-null  int64  \n",
      " 21  u_priority_confirmation  141712 non-null  int64  \n",
      " 22  closed_code              140998 non-null  float64\n",
      " 23  resolved_by              141486 non-null  float64\n",
      " 24  Waiting_Time(min)        141712 non-null  float64\n",
      " 25  Duration(minutes)        141712 non-null  float64\n",
      "dtypes: float64(14), int32(1), int64(11)\n",
      "memory usage: 27.6 MB\n"
     ]
    }
   ],
   "source": [
    "df.info()"
   ]
  },
  {
   "cell_type": "code",
   "execution_count": 55,
   "metadata": {},
   "outputs": [
    {
     "data": {
      "text/plain": [
       "number                      0.000000\n",
       "incident_state              0.000000\n",
       "active                      0.000000\n",
       "reassignment_count          0.000000\n",
       "reopen_count                0.000000\n",
       "sys_mod_count               0.000000\n",
       "made_sla                    0.000000\n",
       "caller_id                   0.020464\n",
       "opened_by                   3.411849\n",
       "sys_updated_by              0.000000\n",
       "contact_type                0.000000\n",
       "location                    0.053630\n",
       "category                    0.055041\n",
       "subcategory                 0.078328\n",
       "u_symptom                  23.261262\n",
       "impact                      0.000000\n",
       "urgency                     0.000000\n",
       "priority                    0.000000\n",
       "assignment_group           10.029496\n",
       "assigned_to                19.402732\n",
       "knowledge                   0.000000\n",
       "u_priority_confirmation     0.000000\n",
       "closed_code                 0.503839\n",
       "resolved_by                 0.159478\n",
       "Waiting_Time(min)           0.000000\n",
       "Duration(minutes)           0.000000\n",
       "dtype: float64"
      ]
     },
     "execution_count": 55,
     "metadata": {},
     "output_type": "execute_result"
    }
   ],
   "source": [
    "df.isnull().sum()/df.shape[0]*100"
   ]
  },
  {
   "cell_type": "code",
   "execution_count": 56,
   "metadata": {},
   "outputs": [],
   "source": [
    "# u_symptom has 23% of null values so we replace them with global constant i.e. '0'\n",
    "df['u_symptom']=df['u_symptom'].fillna('0')"
   ]
  },
  {
   "cell_type": "code",
   "execution_count": 57,
   "metadata": {},
   "outputs": [],
   "source": [
    "def cat_imputer(df,variable):\n",
    "  frequent_cat=df[variable].mode().index[0]\n",
    "  df[variable].fillna(frequent_cat,inplace=True)"
   ]
  },
  {
   "cell_type": "code",
   "execution_count": 58,
   "metadata": {},
   "outputs": [],
   "source": [
    "for i in df:\n",
    "  cat_imputer(df,i)"
   ]
  },
  {
   "cell_type": "code",
   "execution_count": 59,
   "metadata": {},
   "outputs": [
    {
     "data": {
      "text/plain": [
       "number                     0\n",
       "incident_state             0\n",
       "active                     0\n",
       "reassignment_count         0\n",
       "reopen_count               0\n",
       "sys_mod_count              0\n",
       "made_sla                   0\n",
       "caller_id                  0\n",
       "opened_by                  0\n",
       "sys_updated_by             0\n",
       "contact_type               0\n",
       "location                   0\n",
       "category                   0\n",
       "subcategory                0\n",
       "u_symptom                  0\n",
       "impact                     0\n",
       "urgency                    0\n",
       "priority                   0\n",
       "assignment_group           0\n",
       "assigned_to                0\n",
       "knowledge                  0\n",
       "u_priority_confirmation    0\n",
       "closed_code                0\n",
       "resolved_by                0\n",
       "Waiting_Time(min)          0\n",
       "Duration(minutes)          0\n",
       "dtype: int64"
      ]
     },
     "execution_count": 59,
     "metadata": {},
     "output_type": "execute_result"
    }
   ],
   "source": [
    "df.isnull().sum()"
   ]
  },
  {
   "cell_type": "code",
   "execution_count": 60,
   "metadata": {},
   "outputs": [
    {
     "data": {
      "text/html": [
       "<div>\n",
       "<style scoped>\n",
       "    .dataframe tbody tr th:only-of-type {\n",
       "        vertical-align: middle;\n",
       "    }\n",
       "\n",
       "    .dataframe tbody tr th {\n",
       "        vertical-align: top;\n",
       "    }\n",
       "\n",
       "    .dataframe thead th {\n",
       "        text-align: right;\n",
       "    }\n",
       "</style>\n",
       "<table border=\"1\" class=\"dataframe\">\n",
       "  <thead>\n",
       "    <tr style=\"text-align: right;\">\n",
       "      <th></th>\n",
       "      <th>number</th>\n",
       "      <th>incident_state</th>\n",
       "      <th>active</th>\n",
       "      <th>reassignment_count</th>\n",
       "      <th>reopen_count</th>\n",
       "      <th>sys_mod_count</th>\n",
       "      <th>made_sla</th>\n",
       "      <th>caller_id</th>\n",
       "      <th>opened_by</th>\n",
       "      <th>sys_updated_by</th>\n",
       "      <th>...</th>\n",
       "      <th>urgency</th>\n",
       "      <th>priority</th>\n",
       "      <th>assignment_group</th>\n",
       "      <th>assigned_to</th>\n",
       "      <th>knowledge</th>\n",
       "      <th>u_priority_confirmation</th>\n",
       "      <th>closed_code</th>\n",
       "      <th>resolved_by</th>\n",
       "      <th>Waiting_Time(min)</th>\n",
       "      <th>Duration(minutes)</th>\n",
       "    </tr>\n",
       "  </thead>\n",
       "  <tbody>\n",
       "    <tr>\n",
       "      <th>0</th>\n",
       "      <td>45</td>\n",
       "      <td>7</td>\n",
       "      <td>1</td>\n",
       "      <td>0.0</td>\n",
       "      <td>0</td>\n",
       "      <td>0.0</td>\n",
       "      <td>1</td>\n",
       "      <td>2403.0</td>\n",
       "      <td>8.0</td>\n",
       "      <td>21</td>\n",
       "      <td>...</td>\n",
       "      <td>2</td>\n",
       "      <td>3</td>\n",
       "      <td>56.0</td>\n",
       "      <td>0.0</td>\n",
       "      <td>1</td>\n",
       "      <td>0</td>\n",
       "      <td>5.0</td>\n",
       "      <td>149.0</td>\n",
       "      <td>7.0</td>\n",
       "      <td>92804.0</td>\n",
       "    </tr>\n",
       "    <tr>\n",
       "      <th>1</th>\n",
       "      <td>45</td>\n",
       "      <td>8</td>\n",
       "      <td>1</td>\n",
       "      <td>0.0</td>\n",
       "      <td>0</td>\n",
       "      <td>2.0</td>\n",
       "      <td>1</td>\n",
       "      <td>2403.0</td>\n",
       "      <td>8.0</td>\n",
       "      <td>642</td>\n",
       "      <td>...</td>\n",
       "      <td>2</td>\n",
       "      <td>3</td>\n",
       "      <td>56.0</td>\n",
       "      <td>0.0</td>\n",
       "      <td>1</td>\n",
       "      <td>0</td>\n",
       "      <td>5.0</td>\n",
       "      <td>149.0</td>\n",
       "      <td>457.0</td>\n",
       "      <td>92804.0</td>\n",
       "    </tr>\n",
       "    <tr>\n",
       "      <th>2</th>\n",
       "      <td>45</td>\n",
       "      <td>8</td>\n",
       "      <td>1</td>\n",
       "      <td>0.0</td>\n",
       "      <td>0</td>\n",
       "      <td>3.0</td>\n",
       "      <td>1</td>\n",
       "      <td>2403.0</td>\n",
       "      <td>8.0</td>\n",
       "      <td>804</td>\n",
       "      <td>...</td>\n",
       "      <td>2</td>\n",
       "      <td>3</td>\n",
       "      <td>56.0</td>\n",
       "      <td>0.0</td>\n",
       "      <td>1</td>\n",
       "      <td>0</td>\n",
       "      <td>5.0</td>\n",
       "      <td>149.0</td>\n",
       "      <td>613.0</td>\n",
       "      <td>92804.0</td>\n",
       "    </tr>\n",
       "    <tr>\n",
       "      <th>3</th>\n",
       "      <td>45</td>\n",
       "      <td>6</td>\n",
       "      <td>0</td>\n",
       "      <td>0.0</td>\n",
       "      <td>0</td>\n",
       "      <td>4.0</td>\n",
       "      <td>1</td>\n",
       "      <td>2403.0</td>\n",
       "      <td>8.0</td>\n",
       "      <td>908</td>\n",
       "      <td>...</td>\n",
       "      <td>2</td>\n",
       "      <td>3</td>\n",
       "      <td>56.0</td>\n",
       "      <td>0.0</td>\n",
       "      <td>1</td>\n",
       "      <td>0</td>\n",
       "      <td>5.0</td>\n",
       "      <td>149.0</td>\n",
       "      <td>92804.0</td>\n",
       "      <td>92804.0</td>\n",
       "    </tr>\n",
       "    <tr>\n",
       "      <th>4</th>\n",
       "      <td>47</td>\n",
       "      <td>7</td>\n",
       "      <td>1</td>\n",
       "      <td>0.0</td>\n",
       "      <td>0</td>\n",
       "      <td>0.0</td>\n",
       "      <td>1</td>\n",
       "      <td>2403.0</td>\n",
       "      <td>397.0</td>\n",
       "      <td>746</td>\n",
       "      <td>...</td>\n",
       "      <td>2</td>\n",
       "      <td>3</td>\n",
       "      <td>70.0</td>\n",
       "      <td>89.0</td>\n",
       "      <td>1</td>\n",
       "      <td>0</td>\n",
       "      <td>5.0</td>\n",
       "      <td>81.0</td>\n",
       "      <td>17.0</td>\n",
       "      <td>137120.0</td>\n",
       "    </tr>\n",
       "  </tbody>\n",
       "</table>\n",
       "<p>5 rows × 26 columns</p>\n",
       "</div>"
      ],
      "text/plain": [
       "   number  incident_state  active  reassignment_count  reopen_count  \\\n",
       "0      45               7       1                 0.0             0   \n",
       "1      45               8       1                 0.0             0   \n",
       "2      45               8       1                 0.0             0   \n",
       "3      45               6       0                 0.0             0   \n",
       "4      47               7       1                 0.0             0   \n",
       "\n",
       "   sys_mod_count  made_sla  caller_id  opened_by  sys_updated_by  ...  \\\n",
       "0            0.0         1     2403.0        8.0              21  ...   \n",
       "1            2.0         1     2403.0        8.0             642  ...   \n",
       "2            3.0         1     2403.0        8.0             804  ...   \n",
       "3            4.0         1     2403.0        8.0             908  ...   \n",
       "4            0.0         1     2403.0      397.0             746  ...   \n",
       "\n",
       "   urgency  priority  assignment_group  assigned_to knowledge  \\\n",
       "0        2         3              56.0          0.0         1   \n",
       "1        2         3              56.0          0.0         1   \n",
       "2        2         3              56.0          0.0         1   \n",
       "3        2         3              56.0          0.0         1   \n",
       "4        2         3              70.0         89.0         1   \n",
       "\n",
       "   u_priority_confirmation  closed_code  resolved_by  Waiting_Time(min)  \\\n",
       "0                        0          5.0        149.0                7.0   \n",
       "1                        0          5.0        149.0              457.0   \n",
       "2                        0          5.0        149.0              613.0   \n",
       "3                        0          5.0        149.0            92804.0   \n",
       "4                        0          5.0         81.0               17.0   \n",
       "\n",
       "   Duration(minutes)  \n",
       "0            92804.0  \n",
       "1            92804.0  \n",
       "2            92804.0  \n",
       "3            92804.0  \n",
       "4           137120.0  \n",
       "\n",
       "[5 rows x 26 columns]"
      ]
     },
     "execution_count": 60,
     "metadata": {},
     "output_type": "execute_result"
    }
   ],
   "source": [
    "df.head()"
   ]
  },
  {
   "cell_type": "code",
   "execution_count": 61,
   "metadata": {},
   "outputs": [],
   "source": [
    "X=df.drop(['impact'],axis=1)\n",
    "y=df['impact']"
   ]
  },
  {
   "cell_type": "code",
   "execution_count": 62,
   "metadata": {},
   "outputs": [],
   "source": [
    "from sklearn.preprocessing import MinMaxScaler\n",
    "scalar=MinMaxScaler()"
   ]
  },
  {
   "cell_type": "code",
   "execution_count": 63,
   "metadata": {},
   "outputs": [],
   "source": [
    "array=scalar.fit_transform(X)"
   ]
  },
  {
   "cell_type": "code",
   "execution_count": 64,
   "metadata": {},
   "outputs": [
    {
     "data": {
      "text/html": [
       "<div>\n",
       "<style scoped>\n",
       "    .dataframe tbody tr th:only-of-type {\n",
       "        vertical-align: middle;\n",
       "    }\n",
       "\n",
       "    .dataframe tbody tr th {\n",
       "        vertical-align: top;\n",
       "    }\n",
       "\n",
       "    .dataframe thead th {\n",
       "        text-align: right;\n",
       "    }\n",
       "</style>\n",
       "<table border=\"1\" class=\"dataframe\">\n",
       "  <thead>\n",
       "    <tr style=\"text-align: right;\">\n",
       "      <th></th>\n",
       "      <th>number</th>\n",
       "      <th>incident_state</th>\n",
       "      <th>active</th>\n",
       "      <th>reassignment_count</th>\n",
       "      <th>reopen_count</th>\n",
       "      <th>sys_mod_count</th>\n",
       "      <th>made_sla</th>\n",
       "      <th>caller_id</th>\n",
       "      <th>opened_by</th>\n",
       "      <th>sys_updated_by</th>\n",
       "      <th>...</th>\n",
       "      <th>urgency</th>\n",
       "      <th>priority</th>\n",
       "      <th>assignment_group</th>\n",
       "      <th>assigned_to</th>\n",
       "      <th>knowledge</th>\n",
       "      <th>u_priority_confirmation</th>\n",
       "      <th>closed_code</th>\n",
       "      <th>resolved_by</th>\n",
       "      <th>Waiting_Time(min)</th>\n",
       "      <th>Duration(minutes)</th>\n",
       "    </tr>\n",
       "  </thead>\n",
       "  <tbody>\n",
       "    <tr>\n",
       "      <th>0</th>\n",
       "      <td>0.000000</td>\n",
       "      <td>0.875</td>\n",
       "      <td>1.0</td>\n",
       "      <td>0.0</td>\n",
       "      <td>0.0</td>\n",
       "      <td>0.000000</td>\n",
       "      <td>1.0</td>\n",
       "      <td>0.425913</td>\n",
       "      <td>0.014870</td>\n",
       "      <td>0.020101</td>\n",
       "      <td>...</td>\n",
       "      <td>0.5</td>\n",
       "      <td>0.666667</td>\n",
       "      <td>0.682927</td>\n",
       "      <td>0.000000</td>\n",
       "      <td>1.0</td>\n",
       "      <td>0.0</td>\n",
       "      <td>0.294118</td>\n",
       "      <td>0.645022</td>\n",
       "      <td>0.356511</td>\n",
       "      <td>0.425209</td>\n",
       "    </tr>\n",
       "    <tr>\n",
       "      <th>1</th>\n",
       "      <td>0.000000</td>\n",
       "      <td>1.000</td>\n",
       "      <td>1.0</td>\n",
       "      <td>0.0</td>\n",
       "      <td>0.0</td>\n",
       "      <td>0.148148</td>\n",
       "      <td>1.0</td>\n",
       "      <td>0.425913</td>\n",
       "      <td>0.014870</td>\n",
       "      <td>0.644221</td>\n",
       "      <td>...</td>\n",
       "      <td>0.5</td>\n",
       "      <td>0.666667</td>\n",
       "      <td>0.682927</td>\n",
       "      <td>0.000000</td>\n",
       "      <td>1.0</td>\n",
       "      <td>0.0</td>\n",
       "      <td>0.294118</td>\n",
       "      <td>0.645022</td>\n",
       "      <td>0.356845</td>\n",
       "      <td>0.425209</td>\n",
       "    </tr>\n",
       "    <tr>\n",
       "      <th>2</th>\n",
       "      <td>0.000000</td>\n",
       "      <td>1.000</td>\n",
       "      <td>1.0</td>\n",
       "      <td>0.0</td>\n",
       "      <td>0.0</td>\n",
       "      <td>0.222222</td>\n",
       "      <td>1.0</td>\n",
       "      <td>0.425913</td>\n",
       "      <td>0.014870</td>\n",
       "      <td>0.807035</td>\n",
       "      <td>...</td>\n",
       "      <td>0.5</td>\n",
       "      <td>0.666667</td>\n",
       "      <td>0.682927</td>\n",
       "      <td>0.000000</td>\n",
       "      <td>1.0</td>\n",
       "      <td>0.0</td>\n",
       "      <td>0.294118</td>\n",
       "      <td>0.645022</td>\n",
       "      <td>0.356960</td>\n",
       "      <td>0.425209</td>\n",
       "    </tr>\n",
       "    <tr>\n",
       "      <th>3</th>\n",
       "      <td>0.000000</td>\n",
       "      <td>0.750</td>\n",
       "      <td>0.0</td>\n",
       "      <td>0.0</td>\n",
       "      <td>0.0</td>\n",
       "      <td>0.296296</td>\n",
       "      <td>1.0</td>\n",
       "      <td>0.425913</td>\n",
       "      <td>0.014870</td>\n",
       "      <td>0.911558</td>\n",
       "      <td>...</td>\n",
       "      <td>0.5</td>\n",
       "      <td>0.666667</td>\n",
       "      <td>0.682927</td>\n",
       "      <td>0.000000</td>\n",
       "      <td>1.0</td>\n",
       "      <td>0.0</td>\n",
       "      <td>0.294118</td>\n",
       "      <td>0.645022</td>\n",
       "      <td>0.425209</td>\n",
       "      <td>0.425209</td>\n",
       "    </tr>\n",
       "    <tr>\n",
       "      <th>4</th>\n",
       "      <td>0.000017</td>\n",
       "      <td>0.875</td>\n",
       "      <td>1.0</td>\n",
       "      <td>0.0</td>\n",
       "      <td>0.0</td>\n",
       "      <td>0.000000</td>\n",
       "      <td>1.0</td>\n",
       "      <td>0.425913</td>\n",
       "      <td>0.737918</td>\n",
       "      <td>0.748744</td>\n",
       "      <td>...</td>\n",
       "      <td>0.5</td>\n",
       "      <td>0.666667</td>\n",
       "      <td>0.853659</td>\n",
       "      <td>0.351779</td>\n",
       "      <td>1.0</td>\n",
       "      <td>0.0</td>\n",
       "      <td>0.294118</td>\n",
       "      <td>0.350649</td>\n",
       "      <td>0.356519</td>\n",
       "      <td>0.458016</td>\n",
       "    </tr>\n",
       "    <tr>\n",
       "      <th>5</th>\n",
       "      <td>0.000017</td>\n",
       "      <td>0.125</td>\n",
       "      <td>1.0</td>\n",
       "      <td>0.4</td>\n",
       "      <td>0.0</td>\n",
       "      <td>0.074074</td>\n",
       "      <td>1.0</td>\n",
       "      <td>0.425913</td>\n",
       "      <td>0.737918</td>\n",
       "      <td>0.020101</td>\n",
       "      <td>...</td>\n",
       "      <td>0.5</td>\n",
       "      <td>0.666667</td>\n",
       "      <td>0.292683</td>\n",
       "      <td>0.122530</td>\n",
       "      <td>1.0</td>\n",
       "      <td>0.0</td>\n",
       "      <td>0.294118</td>\n",
       "      <td>0.350649</td>\n",
       "      <td>0.356543</td>\n",
       "      <td>0.458016</td>\n",
       "    </tr>\n",
       "    <tr>\n",
       "      <th>6</th>\n",
       "      <td>0.000017</td>\n",
       "      <td>0.125</td>\n",
       "      <td>1.0</td>\n",
       "      <td>0.4</td>\n",
       "      <td>0.0</td>\n",
       "      <td>0.148148</td>\n",
       "      <td>1.0</td>\n",
       "      <td>0.425913</td>\n",
       "      <td>0.737918</td>\n",
       "      <td>0.020101</td>\n",
       "      <td>...</td>\n",
       "      <td>0.5</td>\n",
       "      <td>0.666667</td>\n",
       "      <td>0.292683</td>\n",
       "      <td>0.122530</td>\n",
       "      <td>1.0</td>\n",
       "      <td>0.0</td>\n",
       "      <td>0.294118</td>\n",
       "      <td>0.350649</td>\n",
       "      <td>0.356546</td>\n",
       "      <td>0.458016</td>\n",
       "    </tr>\n",
       "    <tr>\n",
       "      <th>7</th>\n",
       "      <td>0.000017</td>\n",
       "      <td>0.125</td>\n",
       "      <td>1.0</td>\n",
       "      <td>0.4</td>\n",
       "      <td>0.0</td>\n",
       "      <td>0.222222</td>\n",
       "      <td>1.0</td>\n",
       "      <td>0.425913</td>\n",
       "      <td>0.737918</td>\n",
       "      <td>0.807035</td>\n",
       "      <td>...</td>\n",
       "      <td>0.5</td>\n",
       "      <td>0.666667</td>\n",
       "      <td>0.292683</td>\n",
       "      <td>0.122530</td>\n",
       "      <td>1.0</td>\n",
       "      <td>0.0</td>\n",
       "      <td>0.294118</td>\n",
       "      <td>0.350649</td>\n",
       "      <td>0.356811</td>\n",
       "      <td>0.458016</td>\n",
       "    </tr>\n",
       "    <tr>\n",
       "      <th>8</th>\n",
       "      <td>0.000017</td>\n",
       "      <td>0.125</td>\n",
       "      <td>1.0</td>\n",
       "      <td>0.4</td>\n",
       "      <td>0.0</td>\n",
       "      <td>0.296296</td>\n",
       "      <td>1.0</td>\n",
       "      <td>0.425913</td>\n",
       "      <td>0.737918</td>\n",
       "      <td>0.705528</td>\n",
       "      <td>...</td>\n",
       "      <td>0.5</td>\n",
       "      <td>0.666667</td>\n",
       "      <td>0.292683</td>\n",
       "      <td>0.122530</td>\n",
       "      <td>1.0</td>\n",
       "      <td>0.0</td>\n",
       "      <td>0.294118</td>\n",
       "      <td>0.350649</td>\n",
       "      <td>0.356811</td>\n",
       "      <td>0.458016</td>\n",
       "    </tr>\n",
       "    <tr>\n",
       "      <th>9</th>\n",
       "      <td>0.000017</td>\n",
       "      <td>0.125</td>\n",
       "      <td>1.0</td>\n",
       "      <td>0.4</td>\n",
       "      <td>0.0</td>\n",
       "      <td>0.370370</td>\n",
       "      <td>1.0</td>\n",
       "      <td>0.425913</td>\n",
       "      <td>0.737918</td>\n",
       "      <td>0.332663</td>\n",
       "      <td>...</td>\n",
       "      <td>0.5</td>\n",
       "      <td>0.666667</td>\n",
       "      <td>0.292683</td>\n",
       "      <td>0.122530</td>\n",
       "      <td>1.0</td>\n",
       "      <td>0.0</td>\n",
       "      <td>0.294118</td>\n",
       "      <td>0.350649</td>\n",
       "      <td>0.295946</td>\n",
       "      <td>0.458016</td>\n",
       "    </tr>\n",
       "  </tbody>\n",
       "</table>\n",
       "<p>10 rows × 25 columns</p>\n",
       "</div>"
      ],
      "text/plain": [
       "     number  incident_state  active  reassignment_count  reopen_count  \\\n",
       "0  0.000000           0.875     1.0                 0.0           0.0   \n",
       "1  0.000000           1.000     1.0                 0.0           0.0   \n",
       "2  0.000000           1.000     1.0                 0.0           0.0   \n",
       "3  0.000000           0.750     0.0                 0.0           0.0   \n",
       "4  0.000017           0.875     1.0                 0.0           0.0   \n",
       "5  0.000017           0.125     1.0                 0.4           0.0   \n",
       "6  0.000017           0.125     1.0                 0.4           0.0   \n",
       "7  0.000017           0.125     1.0                 0.4           0.0   \n",
       "8  0.000017           0.125     1.0                 0.4           0.0   \n",
       "9  0.000017           0.125     1.0                 0.4           0.0   \n",
       "\n",
       "   sys_mod_count  made_sla  caller_id  opened_by  sys_updated_by  ...  \\\n",
       "0       0.000000       1.0   0.425913   0.014870        0.020101  ...   \n",
       "1       0.148148       1.0   0.425913   0.014870        0.644221  ...   \n",
       "2       0.222222       1.0   0.425913   0.014870        0.807035  ...   \n",
       "3       0.296296       1.0   0.425913   0.014870        0.911558  ...   \n",
       "4       0.000000       1.0   0.425913   0.737918        0.748744  ...   \n",
       "5       0.074074       1.0   0.425913   0.737918        0.020101  ...   \n",
       "6       0.148148       1.0   0.425913   0.737918        0.020101  ...   \n",
       "7       0.222222       1.0   0.425913   0.737918        0.807035  ...   \n",
       "8       0.296296       1.0   0.425913   0.737918        0.705528  ...   \n",
       "9       0.370370       1.0   0.425913   0.737918        0.332663  ...   \n",
       "\n",
       "   urgency  priority  assignment_group  assigned_to  knowledge  \\\n",
       "0      0.5  0.666667          0.682927     0.000000        1.0   \n",
       "1      0.5  0.666667          0.682927     0.000000        1.0   \n",
       "2      0.5  0.666667          0.682927     0.000000        1.0   \n",
       "3      0.5  0.666667          0.682927     0.000000        1.0   \n",
       "4      0.5  0.666667          0.853659     0.351779        1.0   \n",
       "5      0.5  0.666667          0.292683     0.122530        1.0   \n",
       "6      0.5  0.666667          0.292683     0.122530        1.0   \n",
       "7      0.5  0.666667          0.292683     0.122530        1.0   \n",
       "8      0.5  0.666667          0.292683     0.122530        1.0   \n",
       "9      0.5  0.666667          0.292683     0.122530        1.0   \n",
       "\n",
       "   u_priority_confirmation  closed_code  resolved_by  Waiting_Time(min)  \\\n",
       "0                      0.0     0.294118     0.645022           0.356511   \n",
       "1                      0.0     0.294118     0.645022           0.356845   \n",
       "2                      0.0     0.294118     0.645022           0.356960   \n",
       "3                      0.0     0.294118     0.645022           0.425209   \n",
       "4                      0.0     0.294118     0.350649           0.356519   \n",
       "5                      0.0     0.294118     0.350649           0.356543   \n",
       "6                      0.0     0.294118     0.350649           0.356546   \n",
       "7                      0.0     0.294118     0.350649           0.356811   \n",
       "8                      0.0     0.294118     0.350649           0.356811   \n",
       "9                      0.0     0.294118     0.350649           0.295946   \n",
       "\n",
       "   Duration(minutes)  \n",
       "0           0.425209  \n",
       "1           0.425209  \n",
       "2           0.425209  \n",
       "3           0.425209  \n",
       "4           0.458016  \n",
       "5           0.458016  \n",
       "6           0.458016  \n",
       "7           0.458016  \n",
       "8           0.458016  \n",
       "9           0.458016  \n",
       "\n",
       "[10 rows x 25 columns]"
      ]
     },
     "execution_count": 64,
     "metadata": {},
     "output_type": "execute_result"
    }
   ],
   "source": [
    "X=pd.DataFrame(array,columns=X.columns)\n",
    "X.head(10)"
   ]
  },
  {
   "cell_type": "markdown",
   "metadata": {},
   "source": [
    "## Feature Selection\n",
    "''' Using KBest, Chi2 method to find out important features'''"
   ]
  },
  {
   "cell_type": "code",
   "execution_count": 65,
   "metadata": {},
   "outputs": [],
   "source": [
    "from sklearn.feature_selection import SelectKBest\n",
    "from sklearn.feature_selection import chi2\n",
    "features=SelectKBest(score_func=chi2,k='all')\n",
    "order_feature=features.fit(X,y)\n",
    "df_score=pd.DataFrame(order_feature.scores_,columns=['Score'])\n",
    "final_columns=pd.DataFrame(df.columns,columns=['Features'])"
   ]
  },
  {
   "cell_type": "code",
   "execution_count": 66,
   "metadata": {},
   "outputs": [],
   "source": [
    "feature_rank=pd.concat([final_columns,df_score],axis=1)"
   ]
  },
  {
   "cell_type": "code",
   "execution_count": 69,
   "metadata": {},
   "outputs": [
    {
     "data": {
      "text/html": [
       "<div>\n",
       "<style scoped>\n",
       "    .dataframe tbody tr th:only-of-type {\n",
       "        vertical-align: middle;\n",
       "    }\n",
       "\n",
       "    .dataframe tbody tr th {\n",
       "        vertical-align: top;\n",
       "    }\n",
       "\n",
       "    .dataframe thead th {\n",
       "        text-align: right;\n",
       "    }\n",
       "</style>\n",
       "<table border=\"1\" class=\"dataframe\">\n",
       "  <thead>\n",
       "    <tr style=\"text-align: right;\">\n",
       "      <th></th>\n",
       "      <th>Features</th>\n",
       "      <th>Score</th>\n",
       "    </tr>\n",
       "  </thead>\n",
       "  <tbody>\n",
       "    <tr>\n",
       "      <th>15</th>\n",
       "      <td>impact</td>\n",
       "      <td>2239.881999</td>\n",
       "    </tr>\n",
       "    <tr>\n",
       "      <th>16</th>\n",
       "      <td>urgency</td>\n",
       "      <td>2234.198881</td>\n",
       "    </tr>\n",
       "    <tr>\n",
       "      <th>19</th>\n",
       "      <td>assigned_to</td>\n",
       "      <td>1043.404967</td>\n",
       "    </tr>\n",
       "    <tr>\n",
       "      <th>8</th>\n",
       "      <td>opened_by</td>\n",
       "      <td>255.114885</td>\n",
       "    </tr>\n",
       "    <tr>\n",
       "      <th>5</th>\n",
       "      <td>sys_mod_count</td>\n",
       "      <td>145.336790</td>\n",
       "    </tr>\n",
       "    <tr>\n",
       "      <th>20</th>\n",
       "      <td>knowledge</td>\n",
       "      <td>139.332380</td>\n",
       "    </tr>\n",
       "    <tr>\n",
       "      <th>3</th>\n",
       "      <td>reassignment_count</td>\n",
       "      <td>44.842329</td>\n",
       "    </tr>\n",
       "    <tr>\n",
       "      <th>17</th>\n",
       "      <td>priority</td>\n",
       "      <td>40.641349</td>\n",
       "    </tr>\n",
       "    <tr>\n",
       "      <th>0</th>\n",
       "      <td>number</td>\n",
       "      <td>34.051591</td>\n",
       "    </tr>\n",
       "    <tr>\n",
       "      <th>22</th>\n",
       "      <td>closed_code</td>\n",
       "      <td>21.592080</td>\n",
       "    </tr>\n",
       "  </tbody>\n",
       "</table>\n",
       "</div>"
      ],
      "text/plain": [
       "              Features        Score\n",
       "15              impact  2239.881999\n",
       "16             urgency  2234.198881\n",
       "19         assigned_to  1043.404967\n",
       "8            opened_by   255.114885\n",
       "5        sys_mod_count   145.336790\n",
       "20           knowledge   139.332380\n",
       "3   reassignment_count    44.842329\n",
       "17            priority    40.641349\n",
       "0               number    34.051591\n",
       "22         closed_code    21.592080"
      ]
     },
     "execution_count": 69,
     "metadata": {},
     "output_type": "execute_result"
    }
   ],
   "source": [
    "feature=feature_rank.nlargest(10,'Score')\n",
    "feature"
   ]
  },
  {
   "cell_type": "code",
   "execution_count": 70,
   "metadata": {},
   "outputs": [
    {
     "data": {
      "text/plain": [
       "<matplotlib.axes._subplots.AxesSubplot at 0x1ec0d885400>"
      ]
     },
     "execution_count": 70,
     "metadata": {},
     "output_type": "execute_result"
    },
    {
     "data": {
      "image/png": "[encoded data removed]",
      "text/plain": [
       "<Figure size 1872x432 with 1 Axes>"
      ]
     },
     "metadata": {
      "needs_background": "light"
     },
     "output_type": "display_data"
    }
   ],
   "source": [
    "plt.figure(figsize=(26,6))\n",
    "sns.barplot(feature.Features,feature.Score,data=feature)"
   ]
  },
  {
   "cell_type": "code",
   "execution_count": null,
   "metadata": {},
   "outputs": [],
   "source": []
  }
 ],
 "metadata": {
  "accelerator": "GPU",
  "colab": {
   "name": "Untitled1.ipynb",
   "provenance": []
  },
  "kernelspec": {
   "display_name": "Python 3",
   "language": "python",
   "name": "python3"
  },
  "language_info": {
   "codemirror_mode": {
    "name": "ipython",
    "version": 3
   },
   "file_extension": ".py",
   "mimetype": "text/x-python",
   "name": "python",
   "nbconvert_exporter": "python",
   "pygments_lexer": "ipython3",
   "version": "3.8.3"
  }
 },
 "nbformat": 4,
 "nbformat_minor": 1
}
